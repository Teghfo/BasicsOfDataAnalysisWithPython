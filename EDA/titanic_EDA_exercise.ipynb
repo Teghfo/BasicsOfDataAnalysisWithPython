{
 "cells": [
  {
   "cell_type": "markdown",
   "id": "748c28e9",
   "metadata": {},
   "source": [
    "<img src=\"data_science.png\" height=\"500\" width=\"500\">"
   ]
  },
  {
   "cell_type": "markdown",
   "id": "c88fcad9",
   "metadata": {},
   "source": [
    "<div dir = \"rtl\" style=\"direction:rtl;line-height:300%;\">\n",
    "\t<font face=\"XB Zar\" size=4>\n",
    "\t\t<font color=blue size=5>\n",
    "            آنالیز داده چیست؟\n",
    "            </font>\n",
    "        <br/>\n",
    "        <font>\n",
    "          برای تعریف آنالیز داده، می‌توان به دیدگاه جان وایلدر توکی اشاره کرد. او آنالیز داده را شامل مجموعه‌ای از رویه‌ها و تکنیک‌ها برای بررسی داده‌ها، پردازش نتایج و بهینه‌سازی روش‌های جمع‌آوری اطلاعات می‌داند. هدف این فرآیند، دقیق‌تر، کاربردی‌تر و آسان‌تر کردن تحلیل داده‌ها است. \n",
    "             </font>\n",
    "        <br/>\n",
    "    </font>\n",
    "</div>"
   ]
  },
  {
   "cell_type": "markdown",
   "id": "13d9c2f7",
   "metadata": {},
   "source": [
    "<div dir = \"rtl\" style=\"direction:rtl;line-height:300%;\">\n",
    "\t<font face=\"XB Zar\" size=4>\n",
    "\t\t<font color=blue size=5>\n",
    "            تحلیل اکتشافی داده EDA:‌\n",
    "            </font>\n",
    "        <br/>\n",
    "        <font>\n",
    "            در علم آمار، تحلیل اکتشافی داده‌ها (Exploratory Data Analysis - EDA) رویکردی برای بررسی و خلاصه‌سازی ویژگی‌های اصلی مجموعه داده‌ها است. این روش عمدتاً از نمودارهای آماری و روش‌های بصری‌سازی داده‌ها بهره می‌برد تا الگوها، روابط و ویژگی‌های مهم را آشکار کند. در واقع، EDA به ما کمک می‌کند تا درک بهتری از ساختار داده‌ها به دست آوریم و روند تحلیل را هدایت کنیم.\n",
    "        </font>\n",
    "        <br/>\n",
    "    </font>\n",
    "</div>"
   ]
  },
  {
   "cell_type": "markdown",
   "id": "2ddc5f72",
   "metadata": {},
   "source": [
    "<div dir = \"rtl\" style=\"direction:rtl;line-height:300%;\">\n",
    "\t<font face=\"XB Zar\" size=4>\n",
    "\t\t<font color=blue size=5>\n",
    "            فراخوانی کتابخانه های مهم\n",
    "            </font>\n",
    "        <br/>\n",
    "        <font>\n",
    "           کتابخانه های پایتون برای کار با داده را در بلاک زیر ایمپورت کنید.  \n",
    "        </font>\n",
    "        <br/>\n",
    "    </font>\n",
    "</div>"
   ]
  },
  {
   "cell_type": "code",
   "execution_count": 35,
   "id": "8e4e26d8",
   "metadata": {},
   "outputs": [],
   "source": [
    "import numpy as np\n",
    "import pandas as pd\n",
    "import matplotlib.pyplot as plt\n",
    "import seaborn as sns\n",
    "\n",
    "sns.set_style('whitegrid')\n",
    "plt.rcParams[\"figure.figsize\"] = (6, 3)"
   ]
  },
  {
   "cell_type": "markdown",
   "id": "c0037cbc",
   "metadata": {},
   "source": [
    "<div dir = \"rtl\" style=\"direction:rtl;line-height:300%;\">\n",
    "\t<font face=\"XB Zar\" size=4>\n",
    "\t\t<font color=blue size=5>\n",
    "            دیتاست تایتانیک\n",
    "            </font>\n",
    "        <br/>\n",
    "        <font>\n",
    "           یکی از محبوب ترین دیتاست هایی است که برای درک اصول یادگیری ماشین استفاده می شود. این دیتاست شامل اطلاعات تمام مسافران کشتی تایتانیک است که خب همانطور که میدانید متأسفانه کشتی سالها پیش غرق شده است. از این مجموعه داده می توان برای پیش بینی زنده ماندن یا نبودن یک مسافر خاص استفاده کرد. \n",
    "        </font>\n",
    "        <br/>\n",
    "    </font>\n",
    "</div>"
   ]
  },
  {
   "cell_type": "code",
   "execution_count": 2,
   "id": "84df6462",
   "metadata": {},
   "outputs": [],
   "source": [
    "titanic_df = pd.read_csv('train.csv')"
   ]
  },
  {
   "cell_type": "code",
   "execution_count": 3,
   "id": "771edf6f",
   "metadata": {},
   "outputs": [
    {
     "data": {
      "text/html": [
       "<div>\n",
       "<style scoped>\n",
       "    .dataframe tbody tr th:only-of-type {\n",
       "        vertical-align: middle;\n",
       "    }\n",
       "\n",
       "    .dataframe tbody tr th {\n",
       "        vertical-align: top;\n",
       "    }\n",
       "\n",
       "    .dataframe thead th {\n",
       "        text-align: right;\n",
       "    }\n",
       "</style>\n",
       "<table border=\"1\" class=\"dataframe\">\n",
       "  <thead>\n",
       "    <tr style=\"text-align: right;\">\n",
       "      <th></th>\n",
       "      <th>PassengerId</th>\n",
       "      <th>Survived</th>\n",
       "      <th>Pclass</th>\n",
       "      <th>Name</th>\n",
       "      <th>Sex</th>\n",
       "      <th>Age</th>\n",
       "      <th>SibSp</th>\n",
       "      <th>Parch</th>\n",
       "      <th>Ticket</th>\n",
       "      <th>Fare</th>\n",
       "      <th>Cabin</th>\n",
       "      <th>Embarked</th>\n",
       "    </tr>\n",
       "  </thead>\n",
       "  <tbody>\n",
       "    <tr>\n",
       "      <th>0</th>\n",
       "      <td>1</td>\n",
       "      <td>0</td>\n",
       "      <td>3</td>\n",
       "      <td>Braund, Mr. Owen Harris</td>\n",
       "      <td>male</td>\n",
       "      <td>22.0</td>\n",
       "      <td>1</td>\n",
       "      <td>0</td>\n",
       "      <td>A/5 21171</td>\n",
       "      <td>7.2500</td>\n",
       "      <td>NaN</td>\n",
       "      <td>S</td>\n",
       "    </tr>\n",
       "    <tr>\n",
       "      <th>1</th>\n",
       "      <td>2</td>\n",
       "      <td>1</td>\n",
       "      <td>1</td>\n",
       "      <td>Cumings, Mrs. John Bradley (Florence Briggs Th...</td>\n",
       "      <td>female</td>\n",
       "      <td>38.0</td>\n",
       "      <td>1</td>\n",
       "      <td>0</td>\n",
       "      <td>PC 17599</td>\n",
       "      <td>71.2833</td>\n",
       "      <td>C85</td>\n",
       "      <td>C</td>\n",
       "    </tr>\n",
       "    <tr>\n",
       "      <th>2</th>\n",
       "      <td>3</td>\n",
       "      <td>1</td>\n",
       "      <td>3</td>\n",
       "      <td>Heikkinen, Miss. Laina</td>\n",
       "      <td>female</td>\n",
       "      <td>26.0</td>\n",
       "      <td>0</td>\n",
       "      <td>0</td>\n",
       "      <td>STON/O2. 3101282</td>\n",
       "      <td>7.9250</td>\n",
       "      <td>NaN</td>\n",
       "      <td>S</td>\n",
       "    </tr>\n",
       "    <tr>\n",
       "      <th>3</th>\n",
       "      <td>4</td>\n",
       "      <td>1</td>\n",
       "      <td>1</td>\n",
       "      <td>Futrelle, Mrs. Jacques Heath (Lily May Peel)</td>\n",
       "      <td>female</td>\n",
       "      <td>35.0</td>\n",
       "      <td>1</td>\n",
       "      <td>0</td>\n",
       "      <td>113803</td>\n",
       "      <td>53.1000</td>\n",
       "      <td>C123</td>\n",
       "      <td>S</td>\n",
       "    </tr>\n",
       "    <tr>\n",
       "      <th>4</th>\n",
       "      <td>5</td>\n",
       "      <td>0</td>\n",
       "      <td>3</td>\n",
       "      <td>Allen, Mr. William Henry</td>\n",
       "      <td>male</td>\n",
       "      <td>35.0</td>\n",
       "      <td>0</td>\n",
       "      <td>0</td>\n",
       "      <td>373450</td>\n",
       "      <td>8.0500</td>\n",
       "      <td>NaN</td>\n",
       "      <td>S</td>\n",
       "    </tr>\n",
       "  </tbody>\n",
       "</table>\n",
       "</div>"
      ],
      "text/plain": [
       "   PassengerId  Survived  Pclass  \\\n",
       "0            1         0       3   \n",
       "1            2         1       1   \n",
       "2            3         1       3   \n",
       "3            4         1       1   \n",
       "4            5         0       3   \n",
       "\n",
       "                                                Name     Sex   Age  SibSp  \\\n",
       "0                            Braund, Mr. Owen Harris    male  22.0      1   \n",
       "1  Cumings, Mrs. John Bradley (Florence Briggs Th...  female  38.0      1   \n",
       "2                             Heikkinen, Miss. Laina  female  26.0      0   \n",
       "3       Futrelle, Mrs. Jacques Heath (Lily May Peel)  female  35.0      1   \n",
       "4                           Allen, Mr. William Henry    male  35.0      0   \n",
       "\n",
       "   Parch            Ticket     Fare Cabin Embarked  \n",
       "0      0         A/5 21171   7.2500   NaN        S  \n",
       "1      0          PC 17599  71.2833   C85        C  \n",
       "2      0  STON/O2. 3101282   7.9250   NaN        S  \n",
       "3      0            113803  53.1000  C123        S  \n",
       "4      0            373450   8.0500   NaN        S  "
      ]
     },
     "execution_count": 3,
     "metadata": {},
     "output_type": "execute_result"
    }
   ],
   "source": [
    "titanic_df.head()"
   ]
  },
  {
   "cell_type": "markdown",
   "id": "ab292004",
   "metadata": {},
   "source": [
    "<h1>Variable Description</h1>\n",
    "<br/>\n",
    "PassengerId: unique id number to each passenger<br/>\n",
    "Survived: passenger survive(1) or died(0)<br/>\n",
    "Pclass: passenger class<br/>\n",
    "Name: name<br/>\n",
    "Sex: gender of passenger<br/>\n",
    "Age: age of passenger<br/>\n",
    "SibSp: number of siblings/spouses<br/>\n",
    "Parch: number of parents/children<br/>\n",
    "Ticket: ticket number<br/>\n",
    "Fare: amount of money spent on ticket<br/>\n",
    "Cabin: cabin category<br/>\n",
    "Embarked: port where passenger embarked (C = Cherbourg, Q = Queenstown, S = Southampton)<br/>"
   ]
  },
  {
   "cell_type": "code",
   "execution_count": 5,
   "id": "757dd410",
   "metadata": {},
   "outputs": [
    {
     "name": "stdout",
     "output_type": "stream",
     "text": [
      "<class 'pandas.core.frame.DataFrame'>\n",
      "RangeIndex: 891 entries, 0 to 890\n",
      "Data columns (total 12 columns):\n",
      " #   Column       Non-Null Count  Dtype  \n",
      "---  ------       --------------  -----  \n",
      " 0   PassengerId  891 non-null    int64  \n",
      " 1   Survived     891 non-null    int64  \n",
      " 2   Pclass       891 non-null    int64  \n",
      " 3   Name         891 non-null    object \n",
      " 4   Sex          891 non-null    object \n",
      " 5   Age          714 non-null    float64\n",
      " 6   SibSp        891 non-null    int64  \n",
      " 7   Parch        891 non-null    int64  \n",
      " 8   Ticket       891 non-null    object \n",
      " 9   Fare         891 non-null    float64\n",
      " 10  Cabin        204 non-null    object \n",
      " 11  Embarked     889 non-null    object \n",
      "dtypes: float64(2), int64(5), object(5)\n",
      "memory usage: 83.7+ KB\n"
     ]
    }
   ],
   "source": [
    "titanic_df.info()"
   ]
  },
  {
   "cell_type": "code",
   "execution_count": 6,
   "id": "1b77aafe-f185-47ea-87d2-6a42905482a3",
   "metadata": {},
   "outputs": [
    {
     "data": {
      "text/html": [
       "<div>\n",
       "<style scoped>\n",
       "    .dataframe tbody tr th:only-of-type {\n",
       "        vertical-align: middle;\n",
       "    }\n",
       "\n",
       "    .dataframe tbody tr th {\n",
       "        vertical-align: top;\n",
       "    }\n",
       "\n",
       "    .dataframe thead th {\n",
       "        text-align: right;\n",
       "    }\n",
       "</style>\n",
       "<table border=\"1\" class=\"dataframe\">\n",
       "  <thead>\n",
       "    <tr style=\"text-align: right;\">\n",
       "      <th></th>\n",
       "      <th>PassengerId</th>\n",
       "      <th>Survived</th>\n",
       "      <th>Pclass</th>\n",
       "      <th>Age</th>\n",
       "      <th>SibSp</th>\n",
       "      <th>Parch</th>\n",
       "      <th>Fare</th>\n",
       "    </tr>\n",
       "  </thead>\n",
       "  <tbody>\n",
       "    <tr>\n",
       "      <th>count</th>\n",
       "      <td>891.000000</td>\n",
       "      <td>891.000000</td>\n",
       "      <td>891.000000</td>\n",
       "      <td>714.000000</td>\n",
       "      <td>891.000000</td>\n",
       "      <td>891.000000</td>\n",
       "      <td>891.000000</td>\n",
       "    </tr>\n",
       "    <tr>\n",
       "      <th>mean</th>\n",
       "      <td>446.000000</td>\n",
       "      <td>0.383838</td>\n",
       "      <td>2.308642</td>\n",
       "      <td>29.699118</td>\n",
       "      <td>0.523008</td>\n",
       "      <td>0.381594</td>\n",
       "      <td>32.204208</td>\n",
       "    </tr>\n",
       "    <tr>\n",
       "      <th>std</th>\n",
       "      <td>257.353842</td>\n",
       "      <td>0.486592</td>\n",
       "      <td>0.836071</td>\n",
       "      <td>14.526497</td>\n",
       "      <td>1.102743</td>\n",
       "      <td>0.806057</td>\n",
       "      <td>49.693429</td>\n",
       "    </tr>\n",
       "    <tr>\n",
       "      <th>min</th>\n",
       "      <td>1.000000</td>\n",
       "      <td>0.000000</td>\n",
       "      <td>1.000000</td>\n",
       "      <td>0.420000</td>\n",
       "      <td>0.000000</td>\n",
       "      <td>0.000000</td>\n",
       "      <td>0.000000</td>\n",
       "    </tr>\n",
       "    <tr>\n",
       "      <th>25%</th>\n",
       "      <td>223.500000</td>\n",
       "      <td>0.000000</td>\n",
       "      <td>2.000000</td>\n",
       "      <td>20.125000</td>\n",
       "      <td>0.000000</td>\n",
       "      <td>0.000000</td>\n",
       "      <td>7.910400</td>\n",
       "    </tr>\n",
       "    <tr>\n",
       "      <th>50%</th>\n",
       "      <td>446.000000</td>\n",
       "      <td>0.000000</td>\n",
       "      <td>3.000000</td>\n",
       "      <td>28.000000</td>\n",
       "      <td>0.000000</td>\n",
       "      <td>0.000000</td>\n",
       "      <td>14.454200</td>\n",
       "    </tr>\n",
       "    <tr>\n",
       "      <th>75%</th>\n",
       "      <td>668.500000</td>\n",
       "      <td>1.000000</td>\n",
       "      <td>3.000000</td>\n",
       "      <td>38.000000</td>\n",
       "      <td>1.000000</td>\n",
       "      <td>0.000000</td>\n",
       "      <td>31.000000</td>\n",
       "    </tr>\n",
       "    <tr>\n",
       "      <th>max</th>\n",
       "      <td>891.000000</td>\n",
       "      <td>1.000000</td>\n",
       "      <td>3.000000</td>\n",
       "      <td>80.000000</td>\n",
       "      <td>8.000000</td>\n",
       "      <td>6.000000</td>\n",
       "      <td>512.329200</td>\n",
       "    </tr>\n",
       "  </tbody>\n",
       "</table>\n",
       "</div>"
      ],
      "text/plain": [
       "       PassengerId    Survived      Pclass         Age       SibSp  \\\n",
       "count   891.000000  891.000000  891.000000  714.000000  891.000000   \n",
       "mean    446.000000    0.383838    2.308642   29.699118    0.523008   \n",
       "std     257.353842    0.486592    0.836071   14.526497    1.102743   \n",
       "min       1.000000    0.000000    1.000000    0.420000    0.000000   \n",
       "25%     223.500000    0.000000    2.000000   20.125000    0.000000   \n",
       "50%     446.000000    0.000000    3.000000   28.000000    0.000000   \n",
       "75%     668.500000    1.000000    3.000000   38.000000    1.000000   \n",
       "max     891.000000    1.000000    3.000000   80.000000    8.000000   \n",
       "\n",
       "            Parch        Fare  \n",
       "count  891.000000  891.000000  \n",
       "mean     0.381594   32.204208  \n",
       "std      0.806057   49.693429  \n",
       "min      0.000000    0.000000  \n",
       "25%      0.000000    7.910400  \n",
       "50%      0.000000   14.454200  \n",
       "75%      0.000000   31.000000  \n",
       "max      6.000000  512.329200  "
      ]
     },
     "execution_count": 6,
     "metadata": {},
     "output_type": "execute_result"
    }
   ],
   "source": [
    "titanic_df.describe()"
   ]
  },
  {
   "cell_type": "markdown",
   "id": "efb6fea0",
   "metadata": {},
   "source": [
    "<div dir = \"rtl\" style=\"direction:rtl;line-height:300%;\">\n",
    "    <font face=\"XB Zar\" size=4>\n",
    "           <font size=5>\n",
    "تمرین:\n",
    "        </font>\n",
    "        <br/>\n",
    "        <font>\n",
    "تعداد داده های null هر ستون را به دست آورید\n",
    "        </font>\n",
    "        <br/>\n",
    "    </font>\n",
    "</div>"
   ]
  },
  {
   "cell_type": "code",
   "execution_count": 4,
   "id": "1fa8b061",
   "metadata": {},
   "outputs": [
    {
     "data": {
      "text/plain": [
       "PassengerId      0\n",
       "Survived         0\n",
       "Pclass           0\n",
       "Name             0\n",
       "Sex              0\n",
       "Age            177\n",
       "SibSp            0\n",
       "Parch            0\n",
       "Ticket           0\n",
       "Fare             0\n",
       "Cabin          687\n",
       "Embarked         2\n",
       "dtype: int64"
      ]
     },
     "execution_count": 4,
     "metadata": {},
     "output_type": "execute_result"
    }
   ],
   "source": [
    "titanic_df.isnull().sum()"
   ]
  },
  {
   "cell_type": "markdown",
   "id": "64712686",
   "metadata": {},
   "source": [
    "<div dir = \"rtl\" style=\"direction:rtl;line-height:300%;\">\n",
    "\t<font face=\"XB Zar\" size=4>\n",
    "\t\t<font color=blue size=5>\n",
    "            تایپ داده ها\n",
    "            </font>\n",
    "        <br/>\n",
    "        <font>\n",
    "           در یک دسته بندی کلی معمولا داده ها را به دو دسته عددی numerical و غیر عددی categorical تقسیم میکنند.\n",
    "            <br/>\n",
    "            داده های categorical: داده هایی که نمیتوان آنها را با اعداد اندازه گیری کرد. مانند جنسیت افراد، رنگ، مقاطع تحصیلی و ...\n",
    "            <br/>\n",
    "            انواع داده های categorical:‌ داده های کتگوریکال معمولا به دو دسته ترتیبی ordinal غیرترتیبی nominal تقسیم بندی میشوند. لازم به تذکر است که از داده های کتگوریکال آن دسته از داده که صرفا دو مقدار میگیرند گاها داده های باینری binary نیز گفته میشود. مانند جنسیت افراد که صرفا دارای دو نوع مرد و یا زن میباشد.\n",
    "            از داده های nominal میتوان به رنگ اشاره کرد زیرا هیچ ترتیبی بین رنگ ها وجود ندارد. از داده های ordinal به مقاطع تحصیلی میتوان اشاره کرد.\n",
    "            <br/>\n",
    "            داده های عددی numerical: به دو دسته گسسته و پیوسته تقسیم میشوند. داده های عددی گسسته مانند تعداد افراد در یک کلاس و یا تعداد هسته های cpu. داده های پیوسته مانند وزن افراد\n",
    "<br/>\n",
    "<h3>تمرین</h3>\n",
    "            در داده های کشتی تایتانیک تایپ هر کدام از ستون ها را مشخص کنید.\n",
    "        </font>\n",
    "        <br/>\n",
    "    </font>\n",
    "</div>"
   ]
  },
  {
   "cell_type": "markdown",
   "id": "a0a9e6c0",
   "metadata": {},
   "source": [
    "TODO: find types of features in titanic dataset"
   ]
  },
  {
   "cell_type": "code",
   "execution_count": 5,
   "id": "50592c24",
   "metadata": {},
   "outputs": [
    {
     "data": {
      "text/html": [
       "<div>\n",
       "<style scoped>\n",
       "    .dataframe tbody tr th:only-of-type {\n",
       "        vertical-align: middle;\n",
       "    }\n",
       "\n",
       "    .dataframe tbody tr th {\n",
       "        vertical-align: top;\n",
       "    }\n",
       "\n",
       "    .dataframe thead th {\n",
       "        text-align: right;\n",
       "    }\n",
       "</style>\n",
       "<table border=\"1\" class=\"dataframe\">\n",
       "  <thead>\n",
       "    <tr style=\"text-align: right;\">\n",
       "      <th></th>\n",
       "      <th>PassengerId</th>\n",
       "      <th>Survived</th>\n",
       "      <th>Pclass</th>\n",
       "      <th>Age</th>\n",
       "      <th>SibSp</th>\n",
       "      <th>Parch</th>\n",
       "      <th>Fare</th>\n",
       "    </tr>\n",
       "  </thead>\n",
       "  <tbody>\n",
       "    <tr>\n",
       "      <th>count</th>\n",
       "      <td>891.000000</td>\n",
       "      <td>891.000000</td>\n",
       "      <td>891.000000</td>\n",
       "      <td>714.000000</td>\n",
       "      <td>891.000000</td>\n",
       "      <td>891.000000</td>\n",
       "      <td>891.000000</td>\n",
       "    </tr>\n",
       "    <tr>\n",
       "      <th>mean</th>\n",
       "      <td>446.000000</td>\n",
       "      <td>0.383838</td>\n",
       "      <td>2.308642</td>\n",
       "      <td>29.699118</td>\n",
       "      <td>0.523008</td>\n",
       "      <td>0.381594</td>\n",
       "      <td>32.204208</td>\n",
       "    </tr>\n",
       "    <tr>\n",
       "      <th>std</th>\n",
       "      <td>257.353842</td>\n",
       "      <td>0.486592</td>\n",
       "      <td>0.836071</td>\n",
       "      <td>14.526497</td>\n",
       "      <td>1.102743</td>\n",
       "      <td>0.806057</td>\n",
       "      <td>49.693429</td>\n",
       "    </tr>\n",
       "    <tr>\n",
       "      <th>min</th>\n",
       "      <td>1.000000</td>\n",
       "      <td>0.000000</td>\n",
       "      <td>1.000000</td>\n",
       "      <td>0.420000</td>\n",
       "      <td>0.000000</td>\n",
       "      <td>0.000000</td>\n",
       "      <td>0.000000</td>\n",
       "    </tr>\n",
       "    <tr>\n",
       "      <th>25%</th>\n",
       "      <td>223.500000</td>\n",
       "      <td>0.000000</td>\n",
       "      <td>2.000000</td>\n",
       "      <td>20.125000</td>\n",
       "      <td>0.000000</td>\n",
       "      <td>0.000000</td>\n",
       "      <td>7.910400</td>\n",
       "    </tr>\n",
       "    <tr>\n",
       "      <th>50%</th>\n",
       "      <td>446.000000</td>\n",
       "      <td>0.000000</td>\n",
       "      <td>3.000000</td>\n",
       "      <td>28.000000</td>\n",
       "      <td>0.000000</td>\n",
       "      <td>0.000000</td>\n",
       "      <td>14.454200</td>\n",
       "    </tr>\n",
       "    <tr>\n",
       "      <th>75%</th>\n",
       "      <td>668.500000</td>\n",
       "      <td>1.000000</td>\n",
       "      <td>3.000000</td>\n",
       "      <td>38.000000</td>\n",
       "      <td>1.000000</td>\n",
       "      <td>0.000000</td>\n",
       "      <td>31.000000</td>\n",
       "    </tr>\n",
       "    <tr>\n",
       "      <th>max</th>\n",
       "      <td>891.000000</td>\n",
       "      <td>1.000000</td>\n",
       "      <td>3.000000</td>\n",
       "      <td>80.000000</td>\n",
       "      <td>8.000000</td>\n",
       "      <td>6.000000</td>\n",
       "      <td>512.329200</td>\n",
       "    </tr>\n",
       "  </tbody>\n",
       "</table>\n",
       "</div>"
      ],
      "text/plain": [
       "       PassengerId    Survived      Pclass         Age       SibSp  \\\n",
       "count   891.000000  891.000000  891.000000  714.000000  891.000000   \n",
       "mean    446.000000    0.383838    2.308642   29.699118    0.523008   \n",
       "std     257.353842    0.486592    0.836071   14.526497    1.102743   \n",
       "min       1.000000    0.000000    1.000000    0.420000    0.000000   \n",
       "25%     223.500000    0.000000    2.000000   20.125000    0.000000   \n",
       "50%     446.000000    0.000000    3.000000   28.000000    0.000000   \n",
       "75%     668.500000    1.000000    3.000000   38.000000    1.000000   \n",
       "max     891.000000    1.000000    3.000000   80.000000    8.000000   \n",
       "\n",
       "            Parch        Fare  \n",
       "count  891.000000  891.000000  \n",
       "mean     0.381594   32.204208  \n",
       "std      0.806057   49.693429  \n",
       "min      0.000000    0.000000  \n",
       "25%      0.000000    7.910400  \n",
       "50%      0.000000   14.454200  \n",
       "75%      0.000000   31.000000  \n",
       "max      6.000000  512.329200  "
      ]
     },
     "execution_count": 5,
     "metadata": {},
     "output_type": "execute_result"
    }
   ],
   "source": [
    "titanic_df.describe()"
   ]
  },
  {
   "cell_type": "markdown",
   "id": "deaa0830",
   "metadata": {},
   "source": [
    "<div dir = \"rtl\" style=\"direction:rtl;line-height:300%;\">\n",
    "\t<font face=\"XB Zar\" size=4>\n",
    "\t\t<font color=blue size=5>\n",
    "            تحلیل و بررسی اولیه\n",
    "            </font>\n",
    "        <br/>\n",
    "        <font>\n",
    "           در این بخش قصد داریم برای ستونهایی که در ادامه می آید احتمال زنده ماندن (به مقدار میانگین فکر کنید) را به صورت تجربی به دست آوریم.  \n",
    "        </font>\n",
    "        <br/>\n",
    "    </font>\n",
    "</div>\n",
    "\n",
    "Pclass - Survived<br/>\n",
    "Sex - Survived<br/>\n",
    "SibSp - Survived<br/>\n",
    "Parch - Survived<br/>"
   ]
  },
  {
   "cell_type": "code",
   "execution_count": 6,
   "id": "5fc5413f",
   "metadata": {},
   "outputs": [
    {
     "data": {
      "text/plain": [
       "Pclass\n",
       "1    0.629630\n",
       "2    0.472826\n",
       "3    0.242363\n",
       "Name: Survived, dtype: float64"
      ]
     },
     "execution_count": 6,
     "metadata": {},
     "output_type": "execute_result"
    }
   ],
   "source": [
    "titanic_df.groupby('Pclass')['Survived'].mean()"
   ]
  },
  {
   "cell_type": "code",
   "execution_count": 9,
   "id": "a55eb856",
   "metadata": {},
   "outputs": [
    {
     "data": {
      "text/plain": [
       "Sex\n",
       "female    0.742038\n",
       "male      0.188908\n",
       "Name: Survived, dtype: float64"
      ]
     },
     "execution_count": 9,
     "metadata": {},
     "output_type": "execute_result"
    }
   ],
   "source": [
    "titanic_df.groupby('Sex')['Survived'].mean()"
   ]
  },
  {
   "cell_type": "code",
   "execution_count": 10,
   "id": "e3cb66ed",
   "metadata": {},
   "outputs": [
    {
     "data": {
      "text/plain": [
       "SibSp\n",
       "0    0.345395\n",
       "1    0.535885\n",
       "2    0.464286\n",
       "3    0.250000\n",
       "4    0.166667\n",
       "5    0.000000\n",
       "8    0.000000\n",
       "Name: Survived, dtype: float64"
      ]
     },
     "execution_count": 10,
     "metadata": {},
     "output_type": "execute_result"
    }
   ],
   "source": [
    "titanic_df.groupby('SibSp')['Survived'].mean()"
   ]
  },
  {
   "cell_type": "code",
   "execution_count": 11,
   "id": "9dcd1b09",
   "metadata": {},
   "outputs": [
    {
     "data": {
      "text/plain": [
       "Parch\n",
       "0    0.343658\n",
       "1    0.550847\n",
       "2    0.500000\n",
       "3    0.600000\n",
       "4    0.000000\n",
       "5    0.200000\n",
       "6    0.000000\n",
       "Name: Survived, dtype: float64"
      ]
     },
     "execution_count": 11,
     "metadata": {},
     "output_type": "execute_result"
    }
   ],
   "source": [
    "titanic_df.groupby('Parch')['Survived'].mean()"
   ]
  },
  {
   "cell_type": "markdown",
   "id": "4eeec5b4",
   "metadata": {},
   "source": [
    "<div dir = \"rtl\" style=\"direction:rtl;line-height:300%;\">\n",
    "    <font face=\"XB Zar\" size=4>\n",
    "           <font size=5>\n",
    "تمرین:\n",
    "        </font>\n",
    "        <br/>\n",
    "        <font>\n",
    "تحلیل خود را از نمودار زیر بنویسید\n",
    "        </font>\n",
    "        <br/>\n",
    "    </font>\n",
    "</div>"
   ]
  },
  {
   "cell_type": "code",
   "execution_count": 7,
   "id": "426a446a",
   "metadata": {},
   "outputs": [
    {
     "data": {
      "text/plain": [
       "<seaborn.axisgrid.FacetGrid at 0x1ee0623ac50>"
      ]
     },
     "execution_count": 7,
     "metadata": {},
     "output_type": "execute_result"
    },
    {
     "data": {
      "image/png": "[encoded data removed]",
      "text/plain": [
       "<Figure size 572.111x500 with 1 Axes>"
      ]
     },
     "metadata": {},
     "output_type": "display_data"
    }
   ],
   "source": [
    "sns.catplot(x =\"Sex\", hue =\"Survived\", kind =\"count\", data = titanic_df)"
   ]
  },
  {
   "cell_type": "markdown",
   "id": "ec86b4e0",
   "metadata": {},
   "source": [
    "<div dir = \"rtl\" style=\"direction:rtl;line-height:300%;\">\n",
    "    <font face=\"XB Zar\" size=4>\n",
    "           <font size=5>\n",
    "تمرین:\n",
    "        </font>\n",
    "        <br/>\n",
    "        <font>\n",
    "از مثال زیر کمک بگیرید و برای \n",
    "<br/>\n",
    "            Sex - Survived<br/>\n",
    "SibSp - Survived<br/>\n",
    "Parch - Survived<br/>\n",
    "            نیز همین نمودار را رسم کنید\n",
    "        </font>\n",
    "        <br/>\n",
    "    </font>\n",
    "</div>"
   ]
  },
  {
   "cell_type": "code",
   "execution_count": 12,
   "id": "49b67455-32fd-4cee-8d1a-81be0e94ee33",
   "metadata": {},
   "outputs": [
    {
     "data": {
      "text/plain": [
       "<seaborn.axisgrid.FacetGrid at 0x1bc9c28fca0>"
      ]
     },
     "execution_count": 12,
     "metadata": {},
     "output_type": "execute_result"
    },
    {
     "data": {
      "image/png": "[encoded data removed]",
      "text/plain": [
       "<Figure size 572.111x500 with 1 Axes>"
      ]
     },
     "metadata": {},
     "output_type": "display_data"
    }
   ],
   "source": [
    "sns.catplot(x =\"SibSp\", hue =\"Survived\", kind =\"count\", data = titanic_df)"
   ]
  },
  {
   "cell_type": "code",
   "execution_count": 47,
   "id": "3b8cefce",
   "metadata": {},
   "outputs": [
    {
     "data": {
      "text/plain": [
       "<AxesSubplot:xlabel='Survived', ylabel='Pclass'>"
      ]
     },
     "execution_count": 47,
     "metadata": {},
     "output_type": "execute_result"
    },
    {
     "data": {
      "image/png": "[encoded data removed]",
      "text/plain": [
       "<Figure size 432x288 with 2 Axes>"
      ]
     },
     "metadata": {
      "needs_background": "light"
     },
     "output_type": "display_data"
    }
   ],
   "source": [
    "# Group the dataset by Pclass and Survived and then unstack them\n",
    "group = titanic_df.groupby(['Pclass', 'Survived'])\n",
    "pclass_survived = group.size().unstack()\n",
    " \n",
    "sns.heatmap(pclass_survived, annot = True, fmt =\"d\")"
   ]
  },
  {
   "cell_type": "code",
   "execution_count": 48,
   "id": "690b4b9d",
   "metadata": {},
   "outputs": [
    {
     "data": {
      "text/plain": [
       "<AxesSubplot:xlabel='Survived', ylabel='Sex'>"
      ]
     },
     "execution_count": 48,
     "metadata": {},
     "output_type": "execute_result"
    },
    {
     "data": {
      "image/png": "[encoded data removed]",
      "text/plain": [
       "<Figure size 432x288 with 2 Axes>"
      ]
     },
     "metadata": {
      "needs_background": "light"
     },
     "output_type": "display_data"
    }
   ],
   "source": [
    "# TODO"
   ]
  },
  {
   "cell_type": "code",
   "execution_count": 54,
   "id": "baaedf35",
   "metadata": {},
   "outputs": [
    {
     "data": {
      "text/plain": [
       "<AxesSubplot:xlabel='Survived', ylabel='SibSp'>"
      ]
     },
     "execution_count": 54,
     "metadata": {},
     "output_type": "execute_result"
    },
    {
     "data": {
      "image/png": "[encoded data removed]",
      "text/plain": [
       "<Figure size 432x288 with 2 Axes>"
      ]
     },
     "metadata": {
      "needs_background": "light"
     },
     "output_type": "display_data"
    }
   ],
   "source": [
    "# TODO"
   ]
  },
  {
   "cell_type": "markdown",
   "id": "7118ff40",
   "metadata": {},
   "source": [
    "<div dir = \"rtl\" style=\"direction:rtl;line-height:300%;\">\n",
    "\t<font face=\"XB Zar\" size=4>\n",
    "\t\t<font color=blue size=5>\n",
    "            رسم نمودار barplot برای داده های کتگوریکال\n",
    "            </font>\n",
    "        <br/>\n",
    "        <font>\n",
    "        تابع زیر را کامل کنید. این تابع، عنوان ستون را از شما میگیرد و برای آن ستون نمودارbarplot را رسم میکند. سپس براساس تشخیصتان که کدام ستون ها کتگوریکال هستند در حلقه for بعدی همه نمودارهای مورد نظر را رسم کنید. توجه داشته باشید که ستونهای Name, Cabin and Ticket داده های به درد نخور هستند که نیازی به رسم نمودار آنها نیست.\n",
    "        </font>\n",
    "    </font>\n",
    "</div>"
   ]
  },
  {
   "cell_type": "code",
   "execution_count": 33,
   "id": "a5f7e8a1",
   "metadata": {},
   "outputs": [],
   "source": [
    "def bar_plot(column_name):\n",
    "    \"\"\"\n",
    "        input: variable ex: \"Survived\"\n",
    "        output: barplot & value count\n",
    "    \"\"\"\n",
    "    # get feature\n",
    "    #feature_data = ?\n",
    "    # count number of data(value/sample)\n",
    "    # feature_count= ?\n",
    "    \n",
    "    # visualize\n",
    "    plt.figure(figsize = (9,3))\n",
    "    # plt.bar(?)\n",
    "    plt.xticks(feature_count.index, feature_count.index.values)\n",
    "    plt.ylabel(\"Frequency\")\n",
    "    plt.title(column_name)\n",
    "    plt.show()\n",
    "    print(f\"{column_name}: \\n {feature_count}\")"
   ]
  },
  {
   "cell_type": "code",
   "execution_count": 26,
   "id": "7871d822",
   "metadata": {},
   "outputs": [],
   "source": [
    "category = [] # put the name of all categorical columns in this list\n",
    "for col in categorical:\n",
    "    bar_plot(col)"
   ]
  },
  {
   "cell_type": "markdown",
   "id": "fa2b14f7",
   "metadata": {},
   "source": [
    "<div dir = \"rtl\" style=\"direction:rtl;line-height:300%;\">\n",
    "\t<font face=\"XB Zar\" size=4>\n",
    "\t\t<font color=blue size=5>\n",
    "            رسم نمودار توزیع برای داده های عددی\n",
    "            </font>\n",
    "        <br/>\n",
    "        <font>\n",
    "        تابع زیر را کامل کنید. این تابع، عنوان ستون را از شما میگیرد و برای آن ستون نموداری hist را رسم میکند. سپس براساس تشخیصتان که کدام ستون ها عددی هستند در حلقه for بعدی همه نمودارهای مورد نظر را رسم کنید.\n",
    "        </font>\n",
    "    </font>\n",
    "</div>"
   ]
  },
  {
   "cell_type": "code",
   "execution_count": 34,
   "id": "dfcdb25d",
   "metadata": {},
   "outputs": [],
   "source": [
    "def plot_hist(column_name):\n",
    "    plt.figure(figsize = (9,3))\n",
    "    # plt.hist(?)\n",
    "    plt.xlabel(column_name)\n",
    "    plt.ylabel(\"Frequency\")\n",
    "    plt.title(f\"{column_name} distribution with hist\")\n",
    "    plt.show()"
   ]
  },
  {
   "cell_type": "code",
   "execution_count": 36,
   "id": "73d4b359",
   "metadata": {},
   "outputs": [],
   "source": [
    "numerical = [] # put the name of all numerical columns in this list\n",
    "for col in numerical:\n",
    "    plot_hist(col)"
   ]
  },
  {
   "cell_type": "markdown",
   "id": "8f867e7d",
   "metadata": {},
   "source": [
    "<div dir = \"rtl\" style=\"direction:rtl;line-height:300%;\">\n",
    "\t<font face=\"XB Zar\" size=4>\n",
    "\t\t<font color=blue size=5>\n",
    "            تشخیص داده های پرت outlier\n",
    "            </font>\n",
    "        <br/>\n",
    "        <font>\n",
    "        یک تعریف از داده های پرت به این صورت است که هر داده ای که به اندازه یک و نیم برابر طول جعبه (<a href=\"https://en.wikipedia.org/wiki/Interquartile_range\">IQR</a>) از مقادیر چارک اول کوچکتر و یا از چارک سوم بزرگتر باشد داده پرت محسوب میشود. تابعی بنویسید که با گرفتن لیست ستونها اندیس داده های پرت را در آن ستونها تشخیص دهد. در نهایت این داده های پرت را از دیتافریم اولیه حذف کنید و دیتافریم را آپدیت کنید (راهنمایی:‌از متد drop بر روی دیتافریم استفاده کنید. فقط حواستان باشد که در نهایت متد reset_index را با آرگومان drop=True فراخوانی کنید) \n",
    "        </font>\n",
    "    </font>\n",
    "</div>"
   ]
  },
  {
   "cell_type": "code",
   "execution_count": 23,
   "id": "d22bc755",
   "metadata": {},
   "outputs": [],
   "source": [
    "def detect_remove_outliers(dataframe : pd.DataFrame, columns):\n",
    "    outliers_indices = set()\n",
    "    for col in columns:\n",
    "        Q1 = dataframe[col].quantile(0.25)\n",
    "        Q3 = dataframe[col].quantile(0.75)\n",
    "        IQR = Q3 - Q1\n",
    "\n",
    "        lower_bound = Q1 - 1.5 * IQR\n",
    "        upper_bound = Q3 + 1.5 * IQR\n",
    "\n",
    "        outliers = dataframe[(dataframe[col] < lower_bound) | (dataframe[col] > upper_bound)].index \n",
    "        outliers_indices.update(outliers)\n",
    "    cleaned_df = dataframe.drop(index=outliers_indices).reset_index(drop=True)\n",
    "    print(f\"{len(outliers_indices)} removed as outlier\")\n",
    "    return cleaned_df\n",
    "        "
   ]
  },
  {
   "cell_type": "code",
   "execution_count": 24,
   "id": "ca8f9feb",
   "metadata": {},
   "outputs": [
    {
     "name": "stdout",
     "output_type": "stream",
     "text": [
      "126 removed as outlier\n"
     ]
    },
    {
     "data": {
      "text/html": [
       "<div>\n",
       "<style scoped>\n",
       "    .dataframe tbody tr th:only-of-type {\n",
       "        vertical-align: middle;\n",
       "    }\n",
       "\n",
       "    .dataframe tbody tr th {\n",
       "        vertical-align: top;\n",
       "    }\n",
       "\n",
       "    .dataframe thead th {\n",
       "        text-align: right;\n",
       "    }\n",
       "</style>\n",
       "<table border=\"1\" class=\"dataframe\">\n",
       "  <thead>\n",
       "    <tr style=\"text-align: right;\">\n",
       "      <th></th>\n",
       "      <th>PassengerId</th>\n",
       "      <th>Survived</th>\n",
       "      <th>Pclass</th>\n",
       "      <th>Name</th>\n",
       "      <th>Sex</th>\n",
       "      <th>Age</th>\n",
       "      <th>SibSp</th>\n",
       "      <th>Parch</th>\n",
       "      <th>Ticket</th>\n",
       "      <th>Fare</th>\n",
       "      <th>Cabin</th>\n",
       "      <th>Embarked</th>\n",
       "    </tr>\n",
       "  </thead>\n",
       "  <tbody>\n",
       "    <tr>\n",
       "      <th>0</th>\n",
       "      <td>1</td>\n",
       "      <td>0</td>\n",
       "      <td>3</td>\n",
       "      <td>Braund, Mr. Owen Harris</td>\n",
       "      <td>male</td>\n",
       "      <td>22.0</td>\n",
       "      <td>1</td>\n",
       "      <td>0</td>\n",
       "      <td>A/5 21171</td>\n",
       "      <td>7.2500</td>\n",
       "      <td>NaN</td>\n",
       "      <td>S</td>\n",
       "    </tr>\n",
       "    <tr>\n",
       "      <th>1</th>\n",
       "      <td>3</td>\n",
       "      <td>1</td>\n",
       "      <td>3</td>\n",
       "      <td>Heikkinen, Miss. Laina</td>\n",
       "      <td>female</td>\n",
       "      <td>26.0</td>\n",
       "      <td>0</td>\n",
       "      <td>0</td>\n",
       "      <td>STON/O2. 3101282</td>\n",
       "      <td>7.9250</td>\n",
       "      <td>NaN</td>\n",
       "      <td>S</td>\n",
       "    </tr>\n",
       "    <tr>\n",
       "      <th>2</th>\n",
       "      <td>4</td>\n",
       "      <td>1</td>\n",
       "      <td>1</td>\n",
       "      <td>Futrelle, Mrs. Jacques Heath (Lily May Peel)</td>\n",
       "      <td>female</td>\n",
       "      <td>35.0</td>\n",
       "      <td>1</td>\n",
       "      <td>0</td>\n",
       "      <td>113803</td>\n",
       "      <td>53.1000</td>\n",
       "      <td>C123</td>\n",
       "      <td>S</td>\n",
       "    </tr>\n",
       "    <tr>\n",
       "      <th>3</th>\n",
       "      <td>5</td>\n",
       "      <td>0</td>\n",
       "      <td>3</td>\n",
       "      <td>Allen, Mr. William Henry</td>\n",
       "      <td>male</td>\n",
       "      <td>35.0</td>\n",
       "      <td>0</td>\n",
       "      <td>0</td>\n",
       "      <td>373450</td>\n",
       "      <td>8.0500</td>\n",
       "      <td>NaN</td>\n",
       "      <td>S</td>\n",
       "    </tr>\n",
       "    <tr>\n",
       "      <th>4</th>\n",
       "      <td>6</td>\n",
       "      <td>0</td>\n",
       "      <td>3</td>\n",
       "      <td>Moran, Mr. James</td>\n",
       "      <td>male</td>\n",
       "      <td>NaN</td>\n",
       "      <td>0</td>\n",
       "      <td>0</td>\n",
       "      <td>330877</td>\n",
       "      <td>8.4583</td>\n",
       "      <td>NaN</td>\n",
       "      <td>Q</td>\n",
       "    </tr>\n",
       "    <tr>\n",
       "      <th>...</th>\n",
       "      <td>...</td>\n",
       "      <td>...</td>\n",
       "      <td>...</td>\n",
       "      <td>...</td>\n",
       "      <td>...</td>\n",
       "      <td>...</td>\n",
       "      <td>...</td>\n",
       "      <td>...</td>\n",
       "      <td>...</td>\n",
       "      <td>...</td>\n",
       "      <td>...</td>\n",
       "      <td>...</td>\n",
       "    </tr>\n",
       "    <tr>\n",
       "      <th>760</th>\n",
       "      <td>887</td>\n",
       "      <td>0</td>\n",
       "      <td>2</td>\n",
       "      <td>Montvila, Rev. Juozas</td>\n",
       "      <td>male</td>\n",
       "      <td>27.0</td>\n",
       "      <td>0</td>\n",
       "      <td>0</td>\n",
       "      <td>211536</td>\n",
       "      <td>13.0000</td>\n",
       "      <td>NaN</td>\n",
       "      <td>S</td>\n",
       "    </tr>\n",
       "    <tr>\n",
       "      <th>761</th>\n",
       "      <td>888</td>\n",
       "      <td>1</td>\n",
       "      <td>1</td>\n",
       "      <td>Graham, Miss. Margaret Edith</td>\n",
       "      <td>female</td>\n",
       "      <td>19.0</td>\n",
       "      <td>0</td>\n",
       "      <td>0</td>\n",
       "      <td>112053</td>\n",
       "      <td>30.0000</td>\n",
       "      <td>B42</td>\n",
       "      <td>S</td>\n",
       "    </tr>\n",
       "    <tr>\n",
       "      <th>762</th>\n",
       "      <td>889</td>\n",
       "      <td>0</td>\n",
       "      <td>3</td>\n",
       "      <td>Johnston, Miss. Catherine Helen \"Carrie\"</td>\n",
       "      <td>female</td>\n",
       "      <td>NaN</td>\n",
       "      <td>1</td>\n",
       "      <td>2</td>\n",
       "      <td>W./C. 6607</td>\n",
       "      <td>23.4500</td>\n",
       "      <td>NaN</td>\n",
       "      <td>S</td>\n",
       "    </tr>\n",
       "    <tr>\n",
       "      <th>763</th>\n",
       "      <td>890</td>\n",
       "      <td>1</td>\n",
       "      <td>1</td>\n",
       "      <td>Behr, Mr. Karl Howell</td>\n",
       "      <td>male</td>\n",
       "      <td>26.0</td>\n",
       "      <td>0</td>\n",
       "      <td>0</td>\n",
       "      <td>111369</td>\n",
       "      <td>30.0000</td>\n",
       "      <td>C148</td>\n",
       "      <td>C</td>\n",
       "    </tr>\n",
       "    <tr>\n",
       "      <th>764</th>\n",
       "      <td>891</td>\n",
       "      <td>0</td>\n",
       "      <td>3</td>\n",
       "      <td>Dooley, Mr. Patrick</td>\n",
       "      <td>male</td>\n",
       "      <td>32.0</td>\n",
       "      <td>0</td>\n",
       "      <td>0</td>\n",
       "      <td>370376</td>\n",
       "      <td>7.7500</td>\n",
       "      <td>NaN</td>\n",
       "      <td>Q</td>\n",
       "    </tr>\n",
       "  </tbody>\n",
       "</table>\n",
       "<p>765 rows × 12 columns</p>\n",
       "</div>"
      ],
      "text/plain": [
       "     PassengerId  Survived  Pclass  \\\n",
       "0              1         0       3   \n",
       "1              3         1       3   \n",
       "2              4         1       1   \n",
       "3              5         0       3   \n",
       "4              6         0       3   \n",
       "..           ...       ...     ...   \n",
       "760          887         0       2   \n",
       "761          888         1       1   \n",
       "762          889         0       3   \n",
       "763          890         1       1   \n",
       "764          891         0       3   \n",
       "\n",
       "                                             Name     Sex   Age  SibSp  Parch  \\\n",
       "0                         Braund, Mr. Owen Harris    male  22.0      1      0   \n",
       "1                          Heikkinen, Miss. Laina  female  26.0      0      0   \n",
       "2    Futrelle, Mrs. Jacques Heath (Lily May Peel)  female  35.0      1      0   \n",
       "3                        Allen, Mr. William Henry    male  35.0      0      0   \n",
       "4                                Moran, Mr. James    male   NaN      0      0   \n",
       "..                                            ...     ...   ...    ...    ...   \n",
       "760                         Montvila, Rev. Juozas    male  27.0      0      0   \n",
       "761                  Graham, Miss. Margaret Edith  female  19.0      0      0   \n",
       "762      Johnston, Miss. Catherine Helen \"Carrie\"  female   NaN      1      2   \n",
       "763                         Behr, Mr. Karl Howell    male  26.0      0      0   \n",
       "764                           Dooley, Mr. Patrick    male  32.0      0      0   \n",
       "\n",
       "               Ticket     Fare Cabin Embarked  \n",
       "0           A/5 21171   7.2500   NaN        S  \n",
       "1    STON/O2. 3101282   7.9250   NaN        S  \n",
       "2              113803  53.1000  C123        S  \n",
       "3              373450   8.0500   NaN        S  \n",
       "4              330877   8.4583   NaN        Q  \n",
       "..                ...      ...   ...      ...  \n",
       "760            211536  13.0000   NaN        S  \n",
       "761            112053  30.0000   B42        S  \n",
       "762        W./C. 6607  23.4500   NaN        S  \n",
       "763            111369  30.0000  C148        C  \n",
       "764            370376   7.7500   NaN        Q  \n",
       "\n",
       "[765 rows x 12 columns]"
      ]
     },
     "execution_count": 24,
     "metadata": {},
     "output_type": "execute_result"
    }
   ],
   "source": [
    "detect_remove_outliers(titanic_df, [\"Age\",\"Fare\"])"
   ]
  },
  {
   "cell_type": "markdown",
   "id": "295f34bc",
   "metadata": {},
   "source": [
    "<div dir = \"rtl\" style=\"direction:rtl;line-height:300%;\">\n",
    "\t<font face=\"XB Zar\" size=4>\n",
    "\t\t<font color=blue size=5>\n",
    "            پر کردن داده های null\n",
    "            </font>\n",
    "        <br/>\n",
    "        <font>\n",
    "         ستون Embarked تنها 2 داده null دارد. براساس تحلیل های آماری که تا کنون از دیتاست تایتانیک انجام داده اید، تصمیم بگیرید بهتر است این مکان های خالی را به چه مقداری جایگزین کنید\n",
    "        </font>\n",
    "    </font>\n",
    "</div>"
   ]
  },
  {
   "cell_type": "code",
   "execution_count": 41,
   "id": "d742ce37",
   "metadata": {},
   "outputs": [
    {
     "name": "stdout",
     "output_type": "stream",
     "text": [
      "Embarked\n",
      "S    644\n",
      "C    168\n",
      "Q     77\n",
      "Name: count, dtype: int64\n"
     ]
    }
   ],
   "source": [
    "print(titanic_df[\"Embarked\"].value_counts())"
   ]
  },
  {
   "cell_type": "code",
   "execution_count": 43,
   "id": "9aacd80e-873f-43c2-b5de-1b940ecfe121",
   "metadata": {},
   "outputs": [],
   "source": [
    "titanic_df[\"Embarked\"].fillna(titanic_df[\"Embarked\"].mode()[0], inplace=True)"
   ]
  },
  {
   "cell_type": "code",
   "execution_count": 44,
   "id": "06f80ce5-970a-4c76-86da-ee1a052118d9",
   "metadata": {},
   "outputs": [
    {
     "data": {
      "text/plain": [
       "PassengerId      0\n",
       "Survived         0\n",
       "Pclass           0\n",
       "Name             0\n",
       "Sex              0\n",
       "Age            177\n",
       "SibSp            0\n",
       "Parch            0\n",
       "Ticket           0\n",
       "Fare             0\n",
       "Cabin          687\n",
       "Embarked         0\n",
       "dtype: int64"
      ]
     },
     "execution_count": 44,
     "metadata": {},
     "output_type": "execute_result"
    }
   ],
   "source": [
    "titanic_df.isnull().sum()"
   ]
  },
  {
   "cell_type": "markdown",
   "id": "c3588f8b",
   "metadata": {},
   "source": [
    "<div dir = \"rtl\" style=\"direction:rtl;line-height:300%;\">\n",
    "\t<font face=\"XB Zar\" size=4>\n",
    "        <br/>\n",
    "        <font>\n",
    "            ستون Cabin از آنجایی که اطلاعات مفیدی ندارد و با توجه به تعداد null زیاد بهتر است که از دیتافریم حذف شود\n",
    "        </font>\n",
    "    </font>\n",
    "</div>"
   ]
  },
  {
   "cell_type": "code",
   "execution_count": 46,
   "id": "1664e064",
   "metadata": {},
   "outputs": [],
   "source": [
    "titanic_df.drop(columns=[\"Cabin\"], inplace=True)"
   ]
  },
  {
   "cell_type": "code",
   "execution_count": 47,
   "id": "b35261dc-7d81-4145-a233-e85233d5927e",
   "metadata": {},
   "outputs": [
    {
     "data": {
      "text/html": [
       "<div>\n",
       "<style scoped>\n",
       "    .dataframe tbody tr th:only-of-type {\n",
       "        vertical-align: middle;\n",
       "    }\n",
       "\n",
       "    .dataframe tbody tr th {\n",
       "        vertical-align: top;\n",
       "    }\n",
       "\n",
       "    .dataframe thead th {\n",
       "        text-align: right;\n",
       "    }\n",
       "</style>\n",
       "<table border=\"1\" class=\"dataframe\">\n",
       "  <thead>\n",
       "    <tr style=\"text-align: right;\">\n",
       "      <th></th>\n",
       "      <th>PassengerId</th>\n",
       "      <th>Survived</th>\n",
       "      <th>Pclass</th>\n",
       "      <th>Name</th>\n",
       "      <th>Sex</th>\n",
       "      <th>Age</th>\n",
       "      <th>SibSp</th>\n",
       "      <th>Parch</th>\n",
       "      <th>Ticket</th>\n",
       "      <th>Fare</th>\n",
       "      <th>Embarked</th>\n",
       "    </tr>\n",
       "  </thead>\n",
       "  <tbody>\n",
       "    <tr>\n",
       "      <th>0</th>\n",
       "      <td>1</td>\n",
       "      <td>0</td>\n",
       "      <td>3</td>\n",
       "      <td>Braund, Mr. Owen Harris</td>\n",
       "      <td>male</td>\n",
       "      <td>22.0</td>\n",
       "      <td>1</td>\n",
       "      <td>0</td>\n",
       "      <td>A/5 21171</td>\n",
       "      <td>7.2500</td>\n",
       "      <td>S</td>\n",
       "    </tr>\n",
       "    <tr>\n",
       "      <th>1</th>\n",
       "      <td>2</td>\n",
       "      <td>1</td>\n",
       "      <td>1</td>\n",
       "      <td>Cumings, Mrs. John Bradley (Florence Briggs Th...</td>\n",
       "      <td>female</td>\n",
       "      <td>38.0</td>\n",
       "      <td>1</td>\n",
       "      <td>0</td>\n",
       "      <td>PC 17599</td>\n",
       "      <td>71.2833</td>\n",
       "      <td>C</td>\n",
       "    </tr>\n",
       "    <tr>\n",
       "      <th>2</th>\n",
       "      <td>3</td>\n",
       "      <td>1</td>\n",
       "      <td>3</td>\n",
       "      <td>Heikkinen, Miss. Laina</td>\n",
       "      <td>female</td>\n",
       "      <td>26.0</td>\n",
       "      <td>0</td>\n",
       "      <td>0</td>\n",
       "      <td>STON/O2. 3101282</td>\n",
       "      <td>7.9250</td>\n",
       "      <td>S</td>\n",
       "    </tr>\n",
       "    <tr>\n",
       "      <th>3</th>\n",
       "      <td>4</td>\n",
       "      <td>1</td>\n",
       "      <td>1</td>\n",
       "      <td>Futrelle, Mrs. Jacques Heath (Lily May Peel)</td>\n",
       "      <td>female</td>\n",
       "      <td>35.0</td>\n",
       "      <td>1</td>\n",
       "      <td>0</td>\n",
       "      <td>113803</td>\n",
       "      <td>53.1000</td>\n",
       "      <td>S</td>\n",
       "    </tr>\n",
       "    <tr>\n",
       "      <th>4</th>\n",
       "      <td>5</td>\n",
       "      <td>0</td>\n",
       "      <td>3</td>\n",
       "      <td>Allen, Mr. William Henry</td>\n",
       "      <td>male</td>\n",
       "      <td>35.0</td>\n",
       "      <td>0</td>\n",
       "      <td>0</td>\n",
       "      <td>373450</td>\n",
       "      <td>8.0500</td>\n",
       "      <td>S</td>\n",
       "    </tr>\n",
       "  </tbody>\n",
       "</table>\n",
       "</div>"
      ],
      "text/plain": [
       "   PassengerId  Survived  Pclass  \\\n",
       "0            1         0       3   \n",
       "1            2         1       1   \n",
       "2            3         1       3   \n",
       "3            4         1       1   \n",
       "4            5         0       3   \n",
       "\n",
       "                                                Name     Sex   Age  SibSp  \\\n",
       "0                            Braund, Mr. Owen Harris    male  22.0      1   \n",
       "1  Cumings, Mrs. John Bradley (Florence Briggs Th...  female  38.0      1   \n",
       "2                             Heikkinen, Miss. Laina  female  26.0      0   \n",
       "3       Futrelle, Mrs. Jacques Heath (Lily May Peel)  female  35.0      1   \n",
       "4                           Allen, Mr. William Henry    male  35.0      0   \n",
       "\n",
       "   Parch            Ticket     Fare Embarked  \n",
       "0      0         A/5 21171   7.2500        S  \n",
       "1      0          PC 17599  71.2833        C  \n",
       "2      0  STON/O2. 3101282   7.9250        S  \n",
       "3      0            113803  53.1000        S  \n",
       "4      0            373450   8.0500        S  "
      ]
     },
     "execution_count": 47,
     "metadata": {},
     "output_type": "execute_result"
    }
   ],
   "source": [
    "titanic_df.head()"
   ]
  },
  {
   "cell_type": "code",
   "execution_count": 48,
   "id": "e2b721df-7265-46b5-b22f-3b46df8188ca",
   "metadata": {},
   "outputs": [
    {
     "data": {
      "text/plain": [
       "PassengerId      0\n",
       "Survived         0\n",
       "Pclass           0\n",
       "Name             0\n",
       "Sex              0\n",
       "Age            177\n",
       "SibSp            0\n",
       "Parch            0\n",
       "Ticket           0\n",
       "Fare             0\n",
       "Embarked         0\n",
       "dtype: int64"
      ]
     },
     "execution_count": 48,
     "metadata": {},
     "output_type": "execute_result"
    }
   ],
   "source": [
    "titanic_df.isnull().sum()"
   ]
  },
  {
   "cell_type": "markdown",
   "id": "1343c24d",
   "metadata": {},
   "source": [
    "<div dir = \"rtl\" style=\"direction:rtl;line-height:300%;\">\n",
    "\t<font face=\"XB Zar\" size=4>\n",
    "        <br/>\n",
    "        <font>\n",
    "            از آنجایی که ستون Age اهمیت بالایی در این دیتاست دارد در ادامه تلاش میکنیم تا راهی برای جایگزین کردن مقادیر Age در جاهایی که null میباشد پیدا کنیم\n",
    "        </font>\n",
    "    </font>\n",
    "</div>"
   ]
  },
  {
   "cell_type": "markdown",
   "id": "3c3f51f8-1369-46b9-9830-6186a49132e0",
   "metadata": {},
   "source": [
    "1. جایگزینی با میانگین\n",
    "2. جایگزینی با میانه\n",
    "3. جایگزینی براساس گروه بندی\n",
    "4. پیش بینی مقدار Age با مدل یادگیری ماشین"
   ]
  },
  {
   "cell_type": "code",
   "execution_count": 49,
   "id": "572b7c99",
   "metadata": {},
   "outputs": [
    {
     "data": {
      "text/html": [
       "<div>\n",
       "<style scoped>\n",
       "    .dataframe tbody tr th:only-of-type {\n",
       "        vertical-align: middle;\n",
       "    }\n",
       "\n",
       "    .dataframe tbody tr th {\n",
       "        vertical-align: top;\n",
       "    }\n",
       "\n",
       "    .dataframe thead th {\n",
       "        text-align: right;\n",
       "    }\n",
       "</style>\n",
       "<table border=\"1\" class=\"dataframe\">\n",
       "  <thead>\n",
       "    <tr style=\"text-align: right;\">\n",
       "      <th></th>\n",
       "      <th>PassengerId</th>\n",
       "      <th>Survived</th>\n",
       "      <th>Pclass</th>\n",
       "      <th>Name</th>\n",
       "      <th>Sex</th>\n",
       "      <th>Age</th>\n",
       "      <th>SibSp</th>\n",
       "      <th>Parch</th>\n",
       "      <th>Ticket</th>\n",
       "      <th>Fare</th>\n",
       "      <th>Embarked</th>\n",
       "    </tr>\n",
       "  </thead>\n",
       "  <tbody>\n",
       "    <tr>\n",
       "      <th>5</th>\n",
       "      <td>6</td>\n",
       "      <td>0</td>\n",
       "      <td>3</td>\n",
       "      <td>Moran, Mr. James</td>\n",
       "      <td>male</td>\n",
       "      <td>NaN</td>\n",
       "      <td>0</td>\n",
       "      <td>0</td>\n",
       "      <td>330877</td>\n",
       "      <td>8.4583</td>\n",
       "      <td>Q</td>\n",
       "    </tr>\n",
       "    <tr>\n",
       "      <th>17</th>\n",
       "      <td>18</td>\n",
       "      <td>1</td>\n",
       "      <td>2</td>\n",
       "      <td>Williams, Mr. Charles Eugene</td>\n",
       "      <td>male</td>\n",
       "      <td>NaN</td>\n",
       "      <td>0</td>\n",
       "      <td>0</td>\n",
       "      <td>244373</td>\n",
       "      <td>13.0000</td>\n",
       "      <td>S</td>\n",
       "    </tr>\n",
       "    <tr>\n",
       "      <th>19</th>\n",
       "      <td>20</td>\n",
       "      <td>1</td>\n",
       "      <td>3</td>\n",
       "      <td>Masselmani, Mrs. Fatima</td>\n",
       "      <td>female</td>\n",
       "      <td>NaN</td>\n",
       "      <td>0</td>\n",
       "      <td>0</td>\n",
       "      <td>2649</td>\n",
       "      <td>7.2250</td>\n",
       "      <td>C</td>\n",
       "    </tr>\n",
       "    <tr>\n",
       "      <th>26</th>\n",
       "      <td>27</td>\n",
       "      <td>0</td>\n",
       "      <td>3</td>\n",
       "      <td>Emir, Mr. Farred Chehab</td>\n",
       "      <td>male</td>\n",
       "      <td>NaN</td>\n",
       "      <td>0</td>\n",
       "      <td>0</td>\n",
       "      <td>2631</td>\n",
       "      <td>7.2250</td>\n",
       "      <td>C</td>\n",
       "    </tr>\n",
       "    <tr>\n",
       "      <th>28</th>\n",
       "      <td>29</td>\n",
       "      <td>1</td>\n",
       "      <td>3</td>\n",
       "      <td>O'Dwyer, Miss. Ellen \"Nellie\"</td>\n",
       "      <td>female</td>\n",
       "      <td>NaN</td>\n",
       "      <td>0</td>\n",
       "      <td>0</td>\n",
       "      <td>330959</td>\n",
       "      <td>7.8792</td>\n",
       "      <td>Q</td>\n",
       "    </tr>\n",
       "    <tr>\n",
       "      <th>...</th>\n",
       "      <td>...</td>\n",
       "      <td>...</td>\n",
       "      <td>...</td>\n",
       "      <td>...</td>\n",
       "      <td>...</td>\n",
       "      <td>...</td>\n",
       "      <td>...</td>\n",
       "      <td>...</td>\n",
       "      <td>...</td>\n",
       "      <td>...</td>\n",
       "      <td>...</td>\n",
       "    </tr>\n",
       "    <tr>\n",
       "      <th>859</th>\n",
       "      <td>860</td>\n",
       "      <td>0</td>\n",
       "      <td>3</td>\n",
       "      <td>Razi, Mr. Raihed</td>\n",
       "      <td>male</td>\n",
       "      <td>NaN</td>\n",
       "      <td>0</td>\n",
       "      <td>0</td>\n",
       "      <td>2629</td>\n",
       "      <td>7.2292</td>\n",
       "      <td>C</td>\n",
       "    </tr>\n",
       "    <tr>\n",
       "      <th>863</th>\n",
       "      <td>864</td>\n",
       "      <td>0</td>\n",
       "      <td>3</td>\n",
       "      <td>Sage, Miss. Dorothy Edith \"Dolly\"</td>\n",
       "      <td>female</td>\n",
       "      <td>NaN</td>\n",
       "      <td>8</td>\n",
       "      <td>2</td>\n",
       "      <td>CA. 2343</td>\n",
       "      <td>69.5500</td>\n",
       "      <td>S</td>\n",
       "    </tr>\n",
       "    <tr>\n",
       "      <th>868</th>\n",
       "      <td>869</td>\n",
       "      <td>0</td>\n",
       "      <td>3</td>\n",
       "      <td>van Melkebeke, Mr. Philemon</td>\n",
       "      <td>male</td>\n",
       "      <td>NaN</td>\n",
       "      <td>0</td>\n",
       "      <td>0</td>\n",
       "      <td>345777</td>\n",
       "      <td>9.5000</td>\n",
       "      <td>S</td>\n",
       "    </tr>\n",
       "    <tr>\n",
       "      <th>878</th>\n",
       "      <td>879</td>\n",
       "      <td>0</td>\n",
       "      <td>3</td>\n",
       "      <td>Laleff, Mr. Kristo</td>\n",
       "      <td>male</td>\n",
       "      <td>NaN</td>\n",
       "      <td>0</td>\n",
       "      <td>0</td>\n",
       "      <td>349217</td>\n",
       "      <td>7.8958</td>\n",
       "      <td>S</td>\n",
       "    </tr>\n",
       "    <tr>\n",
       "      <th>888</th>\n",
       "      <td>889</td>\n",
       "      <td>0</td>\n",
       "      <td>3</td>\n",
       "      <td>Johnston, Miss. Catherine Helen \"Carrie\"</td>\n",
       "      <td>female</td>\n",
       "      <td>NaN</td>\n",
       "      <td>1</td>\n",
       "      <td>2</td>\n",
       "      <td>W./C. 6607</td>\n",
       "      <td>23.4500</td>\n",
       "      <td>S</td>\n",
       "    </tr>\n",
       "  </tbody>\n",
       "</table>\n",
       "<p>177 rows × 11 columns</p>\n",
       "</div>"
      ],
      "text/plain": [
       "     PassengerId  Survived  Pclass                                      Name  \\\n",
       "5              6         0       3                          Moran, Mr. James   \n",
       "17            18         1       2              Williams, Mr. Charles Eugene   \n",
       "19            20         1       3                   Masselmani, Mrs. Fatima   \n",
       "26            27         0       3                   Emir, Mr. Farred Chehab   \n",
       "28            29         1       3             O'Dwyer, Miss. Ellen \"Nellie\"   \n",
       "..           ...       ...     ...                                       ...   \n",
       "859          860         0       3                          Razi, Mr. Raihed   \n",
       "863          864         0       3         Sage, Miss. Dorothy Edith \"Dolly\"   \n",
       "868          869         0       3               van Melkebeke, Mr. Philemon   \n",
       "878          879         0       3                        Laleff, Mr. Kristo   \n",
       "888          889         0       3  Johnston, Miss. Catherine Helen \"Carrie\"   \n",
       "\n",
       "        Sex  Age  SibSp  Parch      Ticket     Fare Embarked  \n",
       "5      male  NaN      0      0      330877   8.4583        Q  \n",
       "17     male  NaN      0      0      244373  13.0000        S  \n",
       "19   female  NaN      0      0        2649   7.2250        C  \n",
       "26     male  NaN      0      0        2631   7.2250        C  \n",
       "28   female  NaN      0      0      330959   7.8792        Q  \n",
       "..      ...  ...    ...    ...         ...      ...      ...  \n",
       "859    male  NaN      0      0        2629   7.2292        C  \n",
       "863  female  NaN      8      2    CA. 2343  69.5500        S  \n",
       "868    male  NaN      0      0      345777   9.5000        S  \n",
       "878    male  NaN      0      0      349217   7.8958        S  \n",
       "888  female  NaN      1      2  W./C. 6607  23.4500        S  \n",
       "\n",
       "[177 rows x 11 columns]"
      ]
     },
     "execution_count": 49,
     "metadata": {},
     "output_type": "execute_result"
    }
   ],
   "source": [
    "titanic_df[titanic_df[\"Age\"].isnull()]"
   ]
  },
  {
   "cell_type": "markdown",
   "id": "f6830c47",
   "metadata": {},
   "source": [
    "<div dir = \"rtl\" style=\"direction:rtl;line-height:300%;\">\n",
    "\t<font face=\"XB Zar\" size=4>\n",
    "        <br/>\n",
    "        <font>\n",
    "            با توجه به نمودار جعبه ای بین جنسیت و سن آیا جنسیت میتواند اطلاعات مفیدی برای سن داشته باشد؟\n",
    "        </font>\n",
    "    </font>\n",
    "</div>"
   ]
  },
  {
   "cell_type": "code",
   "execution_count": 36,
   "id": "e95b9bc5",
   "metadata": {},
   "outputs": [
    {
     "data": {
      "image/png": "[encoded data removed]",
      "text/plain": [
       "<Figure size 600x300 with 1 Axes>"
      ]
     },
     "metadata": {},
     "output_type": "display_data"
    }
   ],
   "source": [
    "sns.boxplot(x = \"Sex\", y = \"Age\", data = titanic_df)\n",
    "plt.show()"
   ]
  },
  {
   "cell_type": "markdown",
   "id": "1b8b2d11",
   "metadata": {},
   "source": [
    "<div dir = \"rtl\" style=\"direction:rtl;line-height:300%;\">\n",
    "\t<font face=\"XB Zar\" size=4>\n",
    "        <br/>\n",
    "        <font>\n",
    "            ترکیب جنسیت با Pclass چطور ؟\n",
    "        </font>\n",
    "    </font>\n",
    "</div>"
   ]
  },
  {
   "cell_type": "code",
   "execution_count": 51,
   "id": "160e102d",
   "metadata": {},
   "outputs": [
    {
     "data": {
      "image/png": "[encoded data removed]",
      "text/plain": [
       "<Figure size 600x300 with 1 Axes>"
      ]
     },
     "metadata": {},
     "output_type": "display_data"
    }
   ],
   "source": [
    "sns.boxplot(x = \"Pclass\", y = \"Age\",data = titanic_df)\n",
    "plt.show()"
   ]
  },
  {
   "cell_type": "code",
   "execution_count": 52,
   "id": "032dbcd0-68c2-46c7-9c28-2933e3f138d8",
   "metadata": {},
   "outputs": [
    {
     "data": {
      "image/png": "[encoded data removed]",
      "text/plain": [
       "<Figure size 600x300 with 1 Axes>"
      ]
     },
     "metadata": {},
     "output_type": "display_data"
    }
   ],
   "source": [
    "sns.boxplot(x = \"SibSp\", y = \"Age\",data = titanic_df)\n",
    "plt.show()"
   ]
  },
  {
   "cell_type": "code",
   "execution_count": 53,
   "id": "0c7be744-a87e-40cd-9916-d164ba197609",
   "metadata": {},
   "outputs": [
    {
     "data": {
      "image/png": "[encoded data removed]",
      "text/plain": [
       "<Figure size 600x300 with 1 Axes>"
      ]
     },
     "metadata": {},
     "output_type": "display_data"
    }
   ],
   "source": [
    "sns.boxplot(x = \"Parch\", y = \"Age\",data = titanic_df)\n",
    "plt.show()"
   ]
  },
  {
   "cell_type": "markdown",
   "id": "ddba6415",
   "metadata": {},
   "source": [
    "<div dir = \"rtl\" style=\"direction:rtl;line-height:300%;\">\n",
    "\t<font face=\"XB Zar\" size=4>\n",
    "        <br/>\n",
    "        <font>\n",
    "با توجه به نمودار زیر کدام داده ها دارای کورلیشن بیشتری با سن هستند؟\n",
    "        </font>\n",
    "    </font>\n",
    "</div>"
   ]
  },
  {
   "cell_type": "code",
   "execution_count": 54,
   "id": "3132bd3b",
   "metadata": {},
   "outputs": [
    {
     "data": {
      "image/png": "[encoded data removed]",
      "text/plain": [
       "<Figure size 600x300 with 2 Axes>"
      ]
     },
     "metadata": {},
     "output_type": "display_data"
    }
   ],
   "source": [
    "sns.heatmap(titanic_df[[\"Age\",\"SibSp\",\"Parch\",\"Pclass\"]].corr(), annot = True)\n",
    "plt.show()"
   ]
  },
  {
   "cell_type": "markdown",
   "id": "4068ff7b-3b68-41b6-836d-d3f012a9d420",
   "metadata": {},
   "source": [
    "<div dir = \"rtl\" style=\"direction:rtl;line-height:300%;\">\n",
    "\t<font face=\"XB Zar\" size=4>\n",
    "        <br/>\n",
    "        <font>\n",
    "قصد داریم از مقدار میانه برای پر کردن مکان های خالی Age استفاده کنیم. از آنجایی که ستون های SibSp, Parch, Pclass دارای همبستگی با Age هستند میخواهیم از آنها کمک بگیریم. ابتدا اندیس هایی که در آنها ستون Age مقادیر null دارد را پیدا کنید. برای هر اندیس دو مقدار را باید حساب کنید. یکی میانه برای کل ستون Age. دیگری باید میانه را برای ستون Age صرفا برای سطرهایی که در آنها ستونهای SibSp, Parch, Pclass دارای مقادیری برابر با مقدار ستونهای مربوط به همین اندیس دارند بیابید. اگر مقدار میانه دومی nan بود که مقدار اولی را برای این اندیس در مکان Age جایگذاری کنید در غیر اینصورت همین مقدار دومی جایگذاری میشود.\n",
    "        </font>\n",
    "    </font>\n",
    "</div>"
   ]
  },
  {
   "cell_type": "code",
   "execution_count": 59,
   "id": "f4f9a3ce-3172-46e9-8b80-6df37d5d367c",
   "metadata": {},
   "outputs": [
    {
     "data": {
      "text/plain": [
       "np.float64(28.0)"
      ]
     },
     "execution_count": 59,
     "metadata": {},
     "output_type": "execute_result"
    }
   ],
   "source": [
    "global_median_age = titanic_df[\"Age\"].median()\n",
    "global_median_age"
   ]
  },
  {
   "cell_type": "code",
   "execution_count": 67,
   "id": "c346f2cf-af10-4a34-b694-672059039b9d",
   "metadata": {},
   "outputs": [
    {
     "data": {
      "text/plain": [
       "PassengerId    0\n",
       "Survived       0\n",
       "Pclass         0\n",
       "Name           0\n",
       "Sex            0\n",
       "Age            0\n",
       "SibSp          0\n",
       "Parch          0\n",
       "Ticket         0\n",
       "Fare           0\n",
       "Embarked       0\n",
       "dtype: int64"
      ]
     },
     "execution_count": 67,
     "metadata": {},
     "output_type": "execute_result"
    }
   ],
   "source": [
    "grouped_median_age = titanic_df.groupby([ \"SibSp\", \"Parch\", \"Pclass\"])[\"Age\"].median()\n",
    "\n",
    "\n",
    "def fill_age(row):\n",
    "    if pd.isnull(row[\"Age\"]):\n",
    "        grouped_median = grouped_median_age.get((row[\"SibSp\"], row[\"Parch\"], row[\"Pclass\"]), np.nan)\n",
    "        return global_median_age if np.isnan(grouped_median) else grouped_median\n",
    "    return row[\"Age\"]\n",
    "\n",
    "titanic_df[\"Age\"] = titanic_df.apply(fill_age, axis=1)\n",
    "titanic_df.isnull().sum()"
   ]
  },
  {
   "cell_type": "markdown",
   "id": "6b67f37f",
   "metadata": {},
   "source": [
    "<div dir = \"rtl\" style=\"direction:rtl;line-height:300%;\">\n",
    "\t<font face=\"XB Zar\" size=4>\n",
    "\t\t<font color=blue size=5>\n",
    "            داده های مهم و تاثیر گذار در خروجی\n",
    "            </font>\n",
    "        <br/>\n",
    "        <font>\n",
    "            تحلیل خود را از نمودار زیر شرح دهید\n",
    "        </font>\n",
    "    </font>\n",
    "</div>"
   ]
  },
  {
   "cell_type": "code",
   "execution_count": 83,
   "id": "29f5bfc9",
   "metadata": {},
   "outputs": [
    {
     "data": {
      "image/png": "[encoded data removed]",
      "text/plain": [
       "<Figure size 432x288 with 2 Axes>"
      ]
     },
     "metadata": {
      "needs_background": "light"
     },
     "output_type": "display_data"
    }
   ],
   "source": [
    "corr_list = [\"Fare\", \"SibSp\", \"Parch\", \"Age\", \"Survived\"]\n",
    "sns.heatmap(titanic_df[corr_list].corr(), annot = True, fmt = \".2f\")\n",
    "plt.show()"
   ]
  },
  {
   "cell_type": "markdown",
   "id": "15a3efc0",
   "metadata": {},
   "source": [
    "<div dir = \"rtl\" style=\"direction:rtl;line-height:300%;\">\n",
    "\t<font face=\"XB Zar\" size=4>\n",
    "\t\t<font color=blue size=5>\n",
    "            تمرین:\n",
    "            </font>\n",
    "        <br/>\n",
    "        <font>\n",
    "            کار با داده های عددی در الگوریتم های ماشین لرنینگ بهتر از کار با داده های کتگوریکال میباشد. ستون Sex را براساس مرد یا زن بودن با ستونی جایگزین کنید که مقادیر 1 یا 0 میگیرد\n",
    "        </font>\n",
    "    </font>\n",
    "</div>"
   ]
  },
  {
   "cell_type": "code",
   "execution_count": 85,
   "id": "3192b84b",
   "metadata": {},
   "outputs": [],
   "source": [
    "# TODO"
   ]
  }
 ],
 "metadata": {
  "kernelspec": {
   "display_name": "Python 3 (ipykernel)",
   "language": "python",
   "name": "python3"
  },
  "language_info": {
   "codemirror_mode": {
    "name": "ipython",
    "version": 3
   },
   "file_extension": ".py",
   "mimetype": "text/x-python",
   "name": "python",
   "nbconvert_exporter": "python",
   "pygments_lexer": "ipython3",
   "version": "3.10.5"
  }
 },
 "nbformat": 4,
 "nbformat_minor": 5
}
