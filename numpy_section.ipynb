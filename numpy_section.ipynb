{
 "cells": [
  {
   "cell_type": "code",
   "execution_count": 1,
   "id": "35ddf525-bcc0-4e69-a5d9-2796eab5f72f",
   "metadata": {},
   "outputs": [],
   "source": [
    "import numpy as np"
   ]
  },
  {
   "cell_type": "markdown",
   "id": "d3003039",
   "metadata": {
    "jp-MarkdownHeadingCollapsed": true
   },
   "source": [
    "## Basic\n",
    "\n",
    "\n",
    "1 ----> 0_dim \\n\n",
    "\n",
    "\n",
    "\n",
    "N_dim -----> (N-1)_dim"
   ]
  },
  {
   "cell_type": "code",
   "execution_count": 26,
   "id": "f230d2d1-97b0-40f7-9664-3b3c83a5c581",
   "metadata": {},
   "outputs": [
    {
     "data": {
      "text/plain": [
       "array([[[ 3,  2],\n",
       "        [ 8, 15]],\n",
       "\n",
       "       [[ 5, 12],\n",
       "        [21, 34]],\n",
       "\n",
       "       [[ 3,  2],\n",
       "        [ 8, 15]],\n",
       "\n",
       "       [[ 5, 12],\n",
       "        [21, 34]]], dtype=int32)"
      ]
     },
     "execution_count": 26,
     "metadata": {},
     "output_type": "execute_result"
    }
   ],
   "source": [
    "data = np.array([\n",
    "    [[3, 2], [8, 15]],\n",
    "    [[5, 12], [21, 34]],\n",
    "    [[3, 2], [8, 15]],\n",
    "    [[5, 12], [21, 34]]\n",
    "], dtype=np.int32)\n",
    "data"
   ]
  },
  {
   "cell_type": "code",
   "execution_count": 22,
   "id": "da46ee3e-7637-4ef7-af02-4f6aae2cdeea",
   "metadata": {},
   "outputs": [
    {
     "data": {
      "text/plain": [
       "3"
      ]
     },
     "execution_count": 22,
     "metadata": {},
     "output_type": "execute_result"
    }
   ],
   "source": [
    "data.ndim"
   ]
  },
  {
   "cell_type": "code",
   "execution_count": 23,
   "id": "9639123a-2c50-4319-b901-7c0c0cf3f9bf",
   "metadata": {},
   "outputs": [
    {
     "data": {
      "text/plain": [
       "(4, 2, 2)"
      ]
     },
     "execution_count": 23,
     "metadata": {},
     "output_type": "execute_result"
    }
   ],
   "source": [
    "data.shape"
   ]
  },
  {
   "cell_type": "code",
   "execution_count": 27,
   "id": "fa93a26b-c25c-40ec-8d68-ab3b3195db24",
   "metadata": {},
   "outputs": [
    {
     "data": {
      "text/plain": [
       "dtype('int32')"
      ]
     },
     "execution_count": 27,
     "metadata": {},
     "output_type": "execute_result"
    }
   ],
   "source": [
    "data.dtype"
   ]
  },
  {
   "cell_type": "code",
   "execution_count": 28,
   "id": "ca99f9ad-0946-40ef-bbee-8514be31b310",
   "metadata": {},
   "outputs": [
    {
     "data": {
      "text/plain": [
       "4"
      ]
     },
     "execution_count": 28,
     "metadata": {},
     "output_type": "execute_result"
    }
   ],
   "source": [
    "data.itemsize"
   ]
  },
  {
   "cell_type": "code",
   "execution_count": 32,
   "id": "93df5898-2731-4dcf-80ec-16e10302b837",
   "metadata": {},
   "outputs": [
    {
     "name": "stdout",
     "output_type": "stream",
     "text": [
      "shape:  (4, 2, 2)\n",
      "item size: 4 Byte\n",
      "size: 16 dooneh\n",
      "array in memmoory 64 Byte\n",
      "208\n"
     ]
    }
   ],
   "source": [
    "import sys\n",
    "\n",
    "print(\"shape: \", data.shape)\n",
    "print(f\"item size: {data.itemsize} Byte\")\n",
    "print(f\"size: {data.size} dooneh\")\n",
    "print(f\"array in memmoory {data.size * data.itemsize} Byte\")\n",
    "print(f\"{sys.getsizeof(data)}\")"
   ]
  },
  {
   "cell_type": "markdown",
   "id": "9694c7a1",
   "metadata": {
    "jp-MarkdownHeadingCollapsed": true
   },
   "source": [
    "## Slicing, Selection"
   ]
  },
  {
   "cell_type": "code",
   "execution_count": 33,
   "id": "0b3df87f",
   "metadata": {},
   "outputs": [
    {
     "data": {
      "text/plain": [
       "array([[[  1,   2,   3],\n",
       "        [  5,   8,  32]],\n",
       "\n",
       "       [[  2,   5,  12],\n",
       "        [ 76,  12,  18]],\n",
       "\n",
       "       [[  3,   3,   8],\n",
       "        [ 54,  22, -21]]], dtype=int32)"
      ]
     },
     "execution_count": 33,
     "metadata": {},
     "output_type": "execute_result"
    }
   ],
   "source": [
    "my_arr = np.array([\n",
    "    [[1, 2, 3], [5, 8, 32]], \n",
    "    [[2, 5, 12], [76, 12, 18]], \n",
    "    [[3, 3, 8], [54, 22, -21]]], \n",
    "dtype=np.int32)\n",
    "my_arr"
   ]
  },
  {
   "cell_type": "code",
   "execution_count": 34,
   "id": "71259ef1-2f51-41db-b253-06cb097142d0",
   "metadata": {},
   "outputs": [
    {
     "data": {
      "text/plain": [
       "(3, 2, 3)"
      ]
     },
     "execution_count": 34,
     "metadata": {},
     "output_type": "execute_result"
    }
   ],
   "source": [
    "my_arr.shape"
   ]
  },
  {
   "cell_type": "code",
   "execution_count": 35,
   "id": "c6498b19-dae0-47bf-831e-b6fe09bb40b5",
   "metadata": {},
   "outputs": [
    {
     "data": {
      "text/plain": [
       "np.int32(8)"
      ]
     },
     "execution_count": 35,
     "metadata": {},
     "output_type": "execute_result"
    }
   ],
   "source": [
    "my_arr[0, 1, 1]"
   ]
  },
  {
   "cell_type": "code",
   "execution_count": 37,
   "id": "19badd4a-1a8f-4053-9245-6532aa8ceb5e",
   "metadata": {},
   "outputs": [
    {
     "data": {
      "text/plain": [
       "array([1, 2, 3], dtype=int32)"
      ]
     },
     "execution_count": 37,
     "metadata": {},
     "output_type": "execute_result"
    }
   ],
   "source": [
    "my_arr[0, 0]"
   ]
  },
  {
   "cell_type": "markdown",
   "id": "f7781e24-584c-4b35-871c-aa17d4c7c86e",
   "metadata": {},
   "source": [
    "[4, 12, 21] ---> array[start:stop:step]"
   ]
  },
  {
   "cell_type": "code",
   "execution_count": 42,
   "id": "9d75607d-6ff1-44f9-b3ab-1ffb4634987c",
   "metadata": {},
   "outputs": [
    {
     "data": {
      "text/plain": [
       "array([50, 40, 30, 20, 10])"
      ]
     },
     "execution_count": 42,
     "metadata": {},
     "output_type": "execute_result"
    }
   ],
   "source": [
    "one_dim = np.array([10, 20 , 30 , 40, 50])\n",
    "# one_dim[1:4]\n",
    "# one_dim[:3]\n",
    "# one_dim[2:]\n",
    "# one_dim[2:]\n",
    "# one_dim[::2]\n",
    "one_dim[::-1]"
   ]
  },
  {
   "cell_type": "code",
   "execution_count": 44,
   "id": "e6117867-24b9-4b17-a09c-6224ab745f71",
   "metadata": {},
   "outputs": [
    {
     "data": {
      "text/plain": [
       "array([[ 1,  2,  3,  4,  5],\n",
       "       [ 6,  7,  8,  9, 10],\n",
       "       [11, 12, 13, 14, 15]])"
      ]
     },
     "execution_count": 44,
     "metadata": {},
     "output_type": "execute_result"
    }
   ],
   "source": [
    "matrix = np.array([\n",
    "    [1, 2, 3, 4, 5],\n",
    "    [6, 7, 8, 9, 10],\n",
    "    [11, 12, 13, 14, 15]\n",
    "])\n",
    "matrix"
   ]
  },
  {
   "cell_type": "code",
   "execution_count": 45,
   "id": "e7b62105-9712-4698-ba5c-0c058c4ecded",
   "metadata": {},
   "outputs": [
    {
     "data": {
      "text/plain": [
       "array([[2, 3],\n",
       "       [7, 8]])"
      ]
     },
     "execution_count": 45,
     "metadata": {},
     "output_type": "execute_result"
    }
   ],
   "source": [
    "matrix[:2, 1:3]"
   ]
  },
  {
   "cell_type": "code",
   "execution_count": 48,
   "id": "7228d62f-b015-4bf6-af0e-41437f9062d9",
   "metadata": {},
   "outputs": [
    {
     "data": {
      "text/plain": [
       "array([ 5, 10, 15])"
      ]
     },
     "execution_count": 48,
     "metadata": {},
     "output_type": "execute_result"
    }
   ],
   "source": [
    "matrix[:, -1]"
   ]
  },
  {
   "cell_type": "code",
   "execution_count": 51,
   "id": "f9f9148a-b57f-464b-b793-01c6b051229c",
   "metadata": {},
   "outputs": [
    {
     "data": {
      "text/plain": [
       "array([[11, 12, 13, 14, 15],\n",
       "       [ 6,  7,  8,  9, 10],\n",
       "       [ 1,  2,  3,  4,  5]])"
      ]
     },
     "execution_count": 51,
     "metadata": {},
     "output_type": "execute_result"
    }
   ],
   "source": [
    "matrix[::-1]"
   ]
  },
  {
   "cell_type": "markdown",
   "id": "243b41ec",
   "metadata": {
    "jp-MarkdownHeadingCollapsed": true
   },
   "source": [
    "## generate ndarray"
   ]
  },
  {
   "cell_type": "code",
   "execution_count": 57,
   "id": "12031159-1951-4f77-842e-5534108e20cb",
   "metadata": {},
   "outputs": [],
   "source": [
    "my_arr = np.zeros((2, 3, 5), dtype=np.int8)"
   ]
  },
  {
   "cell_type": "code",
   "execution_count": 58,
   "id": "88a8dd77-ce5a-4efb-a958-082d766add56",
   "metadata": {},
   "outputs": [
    {
     "data": {
      "text/plain": [
       "array([[[ 0, 12,  0,  0,  0],\n",
       "        [ 0,  0,  0,  0,  0],\n",
       "        [ 0,  0,  0,  0,  0]],\n",
       "\n",
       "       [[ 0,  0,  0,  0,  0],\n",
       "        [ 0,  0,  0,  0,  0],\n",
       "        [ 0,  0,  0,  0,  0]]], dtype=int8)"
      ]
     },
     "execution_count": 58,
     "metadata": {},
     "output_type": "execute_result"
    }
   ],
   "source": [
    "my_arr[0, 0, 1]= 12\n",
    "my_arr"
   ]
  },
  {
   "cell_type": "code",
   "execution_count": 59,
   "id": "89b5dadb-6ea5-4254-bb1b-2ccb74cd3177",
   "metadata": {},
   "outputs": [
    {
     "data": {
      "text/plain": [
       "array([[[0, 0, 0, 0, 0],\n",
       "        [0, 0, 0, 0, 0],\n",
       "        [0, 0, 0, 0, 0]],\n",
       "\n",
       "       [[0, 0, 0, 0, 0],\n",
       "        [0, 0, 0, 0, 0],\n",
       "        [0, 0, 0, 0, 0]]], dtype=int8)"
      ]
     },
     "execution_count": 59,
     "metadata": {},
     "output_type": "execute_result"
    }
   ],
   "source": [
    "np.zeros_like(my_arr)"
   ]
  },
  {
   "cell_type": "code",
   "execution_count": 61,
   "id": "3be70d22-d9b9-444a-8ff0-fc5987ac6dca",
   "metadata": {},
   "outputs": [
    {
     "data": {
      "text/plain": [
       "array([[1., 1., 1.],\n",
       "       [1., 1., 1.]])"
      ]
     },
     "execution_count": 61,
     "metadata": {},
     "output_type": "execute_result"
    }
   ],
   "source": [
    "np.ones((2, 3))"
   ]
  },
  {
   "cell_type": "code",
   "execution_count": 62,
   "id": "f8c6e6b8-f7c8-459d-b531-2efea5b980d6",
   "metadata": {},
   "outputs": [
    {
     "data": {
      "text/plain": [
       "array([[[20, 20, 20, 20, 20],\n",
       "        [20, 20, 20, 20, 20],\n",
       "        [20, 20, 20, 20, 20],\n",
       "        [20, 20, 20, 20, 20]],\n",
       "\n",
       "       [[20, 20, 20, 20, 20],\n",
       "        [20, 20, 20, 20, 20],\n",
       "        [20, 20, 20, 20, 20],\n",
       "        [20, 20, 20, 20, 20]],\n",
       "\n",
       "       [[20, 20, 20, 20, 20],\n",
       "        [20, 20, 20, 20, 20],\n",
       "        [20, 20, 20, 20, 20],\n",
       "        [20, 20, 20, 20, 20]]])"
      ]
     },
     "execution_count": 62,
     "metadata": {},
     "output_type": "execute_result"
    }
   ],
   "source": [
    "np.full((3, 4, 5), 20)"
   ]
  },
  {
   "cell_type": "code",
   "execution_count": 64,
   "id": "0219a546-60d6-472b-bd11-dd96d8fc0338",
   "metadata": {},
   "outputs": [
    {
     "data": {
      "text/plain": [
       "array([10, 12, 14, 16, 18])"
      ]
     },
     "execution_count": 64,
     "metadata": {},
     "output_type": "execute_result"
    }
   ],
   "source": [
    "np.arange(10, 20, 2)"
   ]
  },
  {
   "cell_type": "code",
   "execution_count": 71,
   "id": "f95f52a1-e0e7-4d00-a56d-f6207d917708",
   "metadata": {},
   "outputs": [
    {
     "data": {
      "text/plain": [
       "(5, 10)"
      ]
     },
     "execution_count": 71,
     "metadata": {},
     "output_type": "execute_result"
    }
   ],
   "source": [
    "range_example = np.arange(50).reshape(5, 10)\n",
    "range_example.shape"
   ]
  },
  {
   "cell_type": "code",
   "execution_count": null,
   "id": "16d43318-958b-425a-9b57-bc716fda4c66",
   "metadata": {},
   "outputs": [],
   "source": [
    "for item in np.nditer(range_example):\n",
    "    print(item)"
   ]
  },
  {
   "cell_type": "code",
   "execution_count": null,
   "id": "ade2d2ef-8ee7-45cc-b220-4df77267b65a",
   "metadata": {},
   "outputs": [],
   "source": [
    "for indx, val in np.ndenumerate(range_example):\n",
    "    print(indx, \"---->\", val)"
   ]
  },
  {
   "cell_type": "code",
   "execution_count": 79,
   "id": "5ae06655-9a3d-4af3-aa82-365c3a3bb0d2",
   "metadata": {},
   "outputs": [
    {
     "name": "stdout",
     "output_type": "stream",
     "text": [
      "5.89 ms ± 1.42 ms per loop (mean ± std. dev. of 7 runs, 10 loops each)\n"
     ]
    }
   ],
   "source": [
    "example_arr = np.ones(10000).reshape(100, 100)\n",
    "\n",
    "def f_loop():\n",
    "    for item in np.nditer(example_arr):\n",
    "        np.exp(item)\n",
    "%timeit -n 10 f_loop()"
   ]
  },
  {
   "cell_type": "code",
   "execution_count": 80,
   "id": "75185d88-9be1-4560-831b-2358a765c862",
   "metadata": {},
   "outputs": [
    {
     "name": "stdout",
     "output_type": "stream",
     "text": [
      "133 μs ± 55.1 μs per loop (mean ± std. dev. of 7 runs, 10 loops each)\n"
     ]
    }
   ],
   "source": [
    "%timeit -n 10 np.exp(example_arr)"
   ]
  },
  {
   "cell_type": "markdown",
   "id": "0106b6f3-0ce3-4b34-8606-7b3cb7f88d63",
   "metadata": {
    "jp-MarkdownHeadingCollapsed": true
   },
   "source": [
    "## masking"
   ]
  },
  {
   "cell_type": "code",
   "execution_count": 85,
   "id": "1630d708-c1aa-4855-9ccf-53119b52e38e",
   "metadata": {},
   "outputs": [
    {
     "data": {
      "text/plain": [
       "array([[False, False, False, False, False],\n",
       "       [False, False, False, False, False],\n",
       "       [False,  True,  True,  True,  True],\n",
       "       [ True,  True,  True,  True,  True],\n",
       "       [ True,  True,  True,  True,  True]])"
      ]
     },
     "execution_count": 85,
     "metadata": {},
     "output_type": "execute_result"
    }
   ],
   "source": [
    "example_arr = np.arange(25).reshape(5, 5)\n",
    "mask_example_arr = example_arr > 10\n",
    "mask_example_arr"
   ]
  },
  {
   "cell_type": "code",
   "execution_count": 87,
   "id": "ae1c1280-d6d1-4fb1-a13c-fcf54f91eda3",
   "metadata": {},
   "outputs": [
    {
     "data": {
      "text/plain": [
       "array([ 0,  2,  4,  6,  8, 10, 12, 14, 16, 18, 20, 22, 24])"
      ]
     },
     "execution_count": 87,
     "metadata": {},
     "output_type": "execute_result"
    }
   ],
   "source": [
    "example_arr[example_arr % 2 == 0]"
   ]
  },
  {
   "cell_type": "code",
   "execution_count": 88,
   "id": "3c7aac61-9386-4c52-b697-694c6ec8c43a",
   "metadata": {},
   "outputs": [],
   "source": [
    "example_arr[example_arr > 20] = 0"
   ]
  },
  {
   "cell_type": "code",
   "execution_count": 89,
   "id": "3dca2b91-f032-4d34-bb0c-b98f46cd1d7d",
   "metadata": {},
   "outputs": [
    {
     "data": {
      "text/plain": [
       "array([[ 0,  1,  2,  3,  4],\n",
       "       [ 5,  6,  7,  8,  9],\n",
       "       [10, 11, 12, 13, 14],\n",
       "       [15, 16, 17, 18, 19],\n",
       "       [20,  0,  0,  0,  0]])"
      ]
     },
     "execution_count": 89,
     "metadata": {},
     "output_type": "execute_result"
    }
   ],
   "source": [
    "example_arr"
   ]
  },
  {
   "cell_type": "markdown",
   "id": "44b040b8-303c-4d03-b648-ea02d274a630",
   "metadata": {
    "jp-MarkdownHeadingCollapsed": true
   },
   "source": [
    "## Broadcasting"
   ]
  },
  {
   "cell_type": "code",
   "execution_count": 91,
   "id": "0c036df9-d093-4356-9018-ec9a6ad5fd19",
   "metadata": {},
   "outputs": [
    {
     "data": {
      "text/plain": [
       "array([2, 4, 6])"
      ]
     },
     "execution_count": 91,
     "metadata": {},
     "output_type": "execute_result"
    }
   ],
   "source": [
    "arr = np.array([1, 2, 3])\n",
    "result = arr * 2\n",
    "result"
   ]
  },
  {
   "cell_type": "code",
   "execution_count": 92,
   "id": "b3401839-a839-45f9-9b1b-8f387efacc85",
   "metadata": {},
   "outputs": [
    {
     "data": {
      "text/plain": [
       "array([[2, 4, 6],\n",
       "       [5, 7, 9]])"
      ]
     },
     "execution_count": 92,
     "metadata": {},
     "output_type": "execute_result"
    }
   ],
   "source": [
    "arr1 = np.array([[1, 2, 3], [4, 5, 6]]) # shape (2, 3)\n",
    "arr2 = np.array([1, 2, 3]) # shape (3,) ---> treated as (1, 3)\n",
    "\n",
    "result = arr1 + arr2\n",
    "result"
   ]
  },
  {
   "cell_type": "code",
   "execution_count": 93,
   "id": "0b2a8da5-1e9b-410c-8cf8-7fd14745fd9a",
   "metadata": {},
   "outputs": [
    {
     "data": {
      "text/plain": [
       "array([[10, 20, 30],\n",
       "       [20, 40, 60],\n",
       "       [30, 60, 90]])"
      ]
     },
     "execution_count": 93,
     "metadata": {},
     "output_type": "execute_result"
    }
   ],
   "source": [
    "arr1 = np.array([[1], [2], [3]]) # (3, 1)\n",
    "arr2 = np.array([10, 20, 30]) # (3,) ---> treated as (1, 3)\n",
    "\n",
    "result = arr1 * arr2\n",
    "result"
   ]
  },
  {
   "cell_type": "code",
   "execution_count": 94,
   "id": "d5c4672c-400b-4607-b836-824dd58e603a",
   "metadata": {},
   "outputs": [
    {
     "ename": "ValueError",
     "evalue": "operands could not be broadcast together with shapes (2,2) (3,) ",
     "output_type": "error",
     "traceback": [
      "\u001b[1;31m---------------------------------------------------------------------------\u001b[0m",
      "\u001b[1;31mValueError\u001b[0m                                Traceback (most recent call last)",
      "Cell \u001b[1;32mIn[94], line 4\u001b[0m\n\u001b[0;32m      1\u001b[0m arr1 \u001b[38;5;241m=\u001b[39m np\u001b[38;5;241m.\u001b[39marray([[\u001b[38;5;241m1\u001b[39m, \u001b[38;5;241m2\u001b[39m], [\u001b[38;5;241m3\u001b[39m, \u001b[38;5;241m4\u001b[39m]]) \u001b[38;5;66;03m# (2, 2)\u001b[39;00m\n\u001b[0;32m      2\u001b[0m arr2 \u001b[38;5;241m=\u001b[39m np\u001b[38;5;241m.\u001b[39marray([\u001b[38;5;241m10\u001b[39m, \u001b[38;5;241m20\u001b[39m, \u001b[38;5;241m30\u001b[39m]) \u001b[38;5;66;03m# (3,)\u001b[39;00m\n\u001b[1;32m----> 4\u001b[0m result \u001b[38;5;241m=\u001b[39m \u001b[43marr1\u001b[49m\u001b[43m \u001b[49m\u001b[38;5;241;43m*\u001b[39;49m\u001b[43m \u001b[49m\u001b[43marr2\u001b[49m\n\u001b[0;32m      5\u001b[0m result\n",
      "\u001b[1;31mValueError\u001b[0m: operands could not be broadcast together with shapes (2,2) (3,) "
     ]
    }
   ],
   "source": [
    "arr1 = np.array([[1, 2], [3, 4]]) # (2, 2)\n",
    "arr2 = np.array([10, 20, 30]) # (3,)\n",
    "\n",
    "result = arr1 * arr2\n",
    "result"
   ]
  },
  {
   "cell_type": "markdown",
   "id": "f62ffa66-38de-4982-8faf-f4b041775899",
   "metadata": {
    "jp-MarkdownHeadingCollapsed": true
   },
   "source": [
    "## Math(ufunc)"
   ]
  },
  {
   "cell_type": "code",
   "execution_count": 95,
   "id": "aaeb7054-903c-43b2-a332-c25206d30bc9",
   "metadata": {},
   "outputs": [
    {
     "name": "stdout",
     "output_type": "stream",
     "text": [
      "Sine values:  [0.         0.5        0.70710678 0.8660254  1.        ]\n",
      "Cosine values:  [1.00000000e+00 8.66025404e-01 7.07106781e-01 5.00000000e-01\n",
      " 6.12323400e-17]\n",
      "Tangent values:  [0.00000000e+00 5.77350269e-01 1.00000000e+00 1.73205081e+00\n",
      " 1.63312394e+16]\n"
     ]
    }
   ],
   "source": [
    "angles = np.array([0, 30, 45, 60, 90])\n",
    "radians = np.deg2rad(angles)\n",
    "\n",
    "\n",
    "print(\"Sine values: \", np.sin(radians))\n",
    "print(\"Cosine values: \", np.cos(radians))\n",
    "print(\"Tangent values: \", np.tan(radians))"
   ]
  },
  {
   "cell_type": "code",
   "execution_count": 98,
   "id": "18b56c03-3be1-46d6-913f-763b76e39f7b",
   "metadata": {},
   "outputs": [
    {
     "data": {
      "text/plain": [
       "array([[0.        , 0.30103   ],\n",
       "       [0.47712125, 0.60205999]])"
      ]
     },
     "execution_count": 98,
     "metadata": {},
     "output_type": "execute_result"
    }
   ],
   "source": [
    "values = np.array([\n",
    "    [1, 2], \n",
    "    [3, 4]\n",
    "])\n",
    "\n",
    "# np.exp(values)  # e ^ x\n",
    "# np.log(values) # logarithm base e\n",
    "np.log10(values)"
   ]
  },
  {
   "cell_type": "code",
   "execution_count": 101,
   "id": "d9b41fb0-07fe-40e8-afea-e5238f18ddc5",
   "metadata": {},
   "outputs": [
    {
     "data": {
      "text/plain": [
       "array([     10,     400,   27000, 2560000])"
      ]
     },
     "execution_count": 101,
     "metadata": {},
     "output_type": "execute_result"
    }
   ],
   "source": [
    "a = np.array([10, 20, 30, 40])\n",
    "b = np.array([1, 2, 3, 4])\n",
    "\n",
    "np.divide(a, b)  # a / b\n",
    "np.power(a, b) # a ** b"
   ]
  },
  {
   "cell_type": "code",
   "execution_count": 106,
   "id": "1502d37e-4a84-4bd3-8cf7-cf450d46cb59",
   "metadata": {},
   "outputs": [
    {
     "data": {
      "text/plain": [
       "np.int64(5)"
      ]
     },
     "execution_count": 106,
     "metadata": {},
     "output_type": "execute_result"
    }
   ],
   "source": [
    "data = np.array([5, 10, 15, 20, 25])\n",
    "\n",
    "# np.sum(data)\n",
    "# np.mean(data)\n",
    "# np.median(data)\n",
    "# np.std(data)\n",
    "np.min(data)"
   ]
  },
  {
   "cell_type": "code",
   "execution_count": 112,
   "id": "e852301f-df23-4d73-9b58-26d7929294cd",
   "metadata": {},
   "outputs": [
    {
     "data": {
      "text/plain": [
       "array([2.   , 5.678, 8.   , 2.   ])"
      ]
     },
     "execution_count": 112,
     "metadata": {},
     "output_type": "execute_result"
    }
   ],
   "source": [
    "arr = np.array([1.234, 5.678, 9.876, -2.3])\n",
    "\n",
    "# np.round(arr, 2)\n",
    "# np.floor(arr)\n",
    "# np.ceil(arr)\n",
    "\n",
    "np.clip(arr, 2, 8)"
   ]
  },
  {
   "cell_type": "markdown",
   "id": "01400ac7-0d3c-46d9-beda-b1508d7cd84d",
   "metadata": {
    "jp-MarkdownHeadingCollapsed": true
   },
   "source": [
    "## Random"
   ]
  },
  {
   "cell_type": "code",
   "execution_count": 119,
   "id": "5842b1fc-9d93-42b9-9217-fc17bae3c240",
   "metadata": {},
   "outputs": [
    {
     "data": {
      "text/plain": [
       "array([0.64103419, 0.36577033, 0.82030792, 0.84013121, 0.56360948])"
      ]
     },
     "execution_count": 119,
     "metadata": {},
     "output_type": "execute_result"
    }
   ],
   "source": [
    "np.random.rand(5)"
   ]
  },
  {
   "cell_type": "code",
   "execution_count": 123,
   "id": "005568e9-01c5-4f31-a562-ee3dab6434a4",
   "metadata": {},
   "outputs": [
    {
     "data": {
      "text/plain": [
       "array([[[0.99182419, 0.21303631, 0.83988894, 0.44256737],\n",
       "        [0.97141086, 0.76506422, 0.17160731, 0.91037282],\n",
       "        [0.57490452, 0.02277357, 0.82444895, 0.05537136]],\n",
       "\n",
       "       [[0.51497614, 0.29860495, 0.00969539, 0.59755999],\n",
       "        [0.22821614, 0.90620541, 0.83408832, 0.91133483],\n",
       "        [0.94055186, 0.4001401 , 0.72768567, 0.30651812]]])"
      ]
     },
     "execution_count": 123,
     "metadata": {},
     "output_type": "execute_result"
    }
   ],
   "source": [
    "np.random.rand(2, 3, 4)"
   ]
  },
  {
   "cell_type": "code",
   "execution_count": 130,
   "id": "32f90834-c30b-45ce-99b8-7599a22d7e6d",
   "metadata": {},
   "outputs": [
    {
     "data": {
      "text/plain": [
       "array([[34, 27, 17, 10, 23, 29, 32, 37, 43, 24, 39, 31],\n",
       "       [46, 21, 27, 44, 31, 17, 11, 18, 26, 30, 34, 25],\n",
       "       [32, 30, 10, 49, 33, 30, 39, 47, 29, 22, 48, 44],\n",
       "       [41, 10, 16, 33, 29, 41, 15, 27, 17, 36, 49, 39],\n",
       "       [25, 46, 21, 11, 13, 43, 21, 19, 43, 29, 43, 25]], dtype=int32)"
      ]
     },
     "execution_count": 130,
     "metadata": {},
     "output_type": "execute_result"
    }
   ],
   "source": [
    "np.random.randint(10, 50, size=(5, 12))"
   ]
  },
  {
   "cell_type": "code",
   "execution_count": 134,
   "id": "6074c94e-a5d2-48d1-acfe-5e6cf3413b6e",
   "metadata": {},
   "outputs": [
    {
     "data": {
      "text/plain": [
       "np.int64(30)"
      ]
     },
     "execution_count": 134,
     "metadata": {},
     "output_type": "execute_result"
    }
   ],
   "source": [
    "numbers = [10, 20, 30, 40, 50]\n",
    "np.random.choice(numbers)"
   ]
  },
  {
   "cell_type": "code",
   "execution_count": 139,
   "id": "ee0b0def-b207-4cd8-b94b-811738e31692",
   "metadata": {},
   "outputs": [
    {
     "data": {
      "text/plain": [
       "array([50, 40, 30])"
      ]
     },
     "execution_count": 139,
     "metadata": {},
     "output_type": "execute_result"
    }
   ],
   "source": [
    "np.random.choice(numbers, size=3, replace=False)"
   ]
  },
  {
   "cell_type": "code",
   "execution_count": 145,
   "id": "83594577-9905-468c-bdfb-51233f2c673f",
   "metadata": {},
   "outputs": [
    {
     "name": "stdout",
     "output_type": "stream",
     "text": [
      "[30, 10, 20, 40, 50]\n"
     ]
    }
   ],
   "source": [
    "np.random.shuffle(numbers)\n",
    "print(numbers)"
   ]
  },
  {
   "cell_type": "code",
   "execution_count": 146,
   "id": "83820261-f48c-4f09-a53e-22d141f393e0",
   "metadata": {},
   "outputs": [
    {
     "data": {
      "text/plain": [
       "array([ 0.86135955, -1.64072864, -1.4442226 ,  1.37007331,  0.93238365,\n",
       "        0.38487203, -1.24593644, -1.00282214,  1.53060081, -2.39356562])"
      ]
     },
     "execution_count": 146,
     "metadata": {},
     "output_type": "execute_result"
    }
   ],
   "source": [
    "np.random.normal(loc=0, scale=1, size=10)"
   ]
  },
  {
   "cell_type": "code",
   "execution_count": 147,
   "id": "418997b1-083f-4308-b874-24c81ab78e30",
   "metadata": {},
   "outputs": [
    {
     "data": {
      "text/plain": [
       "array([13.18160244,  8.14547576,  8.45494957,  9.68880372, 11.99132646,\n",
       "       14.46486622, 12.90496527, 13.39874966, 13.82244707,  5.58462864])"
      ]
     },
     "execution_count": 147,
     "metadata": {},
     "output_type": "execute_result"
    }
   ],
   "source": [
    "np.random.uniform(low=5, high=15, size=10)"
   ]
  },
  {
   "cell_type": "code",
   "execution_count": 152,
   "id": "640b3d21-f751-436f-8fa7-7499cfc48cc0",
   "metadata": {},
   "outputs": [
    {
     "data": {
      "text/plain": [
       "array([8, 3, 6, 5, 8, 3, 5, 3, 4, 5], dtype=int32)"
      ]
     },
     "execution_count": 152,
     "metadata": {},
     "output_type": "execute_result"
    }
   ],
   "source": [
    "np.random.binomial(n=10, p=0.5, size=10)"
   ]
  },
  {
   "cell_type": "code",
   "execution_count": 163,
   "id": "dd903bed-84d3-4b7e-a5e2-508cdcc85c29",
   "metadata": {},
   "outputs": [
    {
     "data": {
      "text/plain": [
       "array([ 0.49671415, -0.1382643 ,  0.64768854,  1.52302986, -0.23415337,\n",
       "       -0.23413696,  1.57921282,  0.76743473, -0.46947439,  0.54256004])"
      ]
     },
     "execution_count": 163,
     "metadata": {},
     "output_type": "execute_result"
    }
   ],
   "source": [
    "np.random.seed(42)\n",
    "np.random.normal(loc=0, scale=1, size=10)"
   ]
  },
  {
   "cell_type": "markdown",
   "id": "9ba3b08f-5702-41f7-aae9-0e757fcd4977",
   "metadata": {
    "jp-MarkdownHeadingCollapsed": true
   },
   "source": [
    "## Axis"
   ]
  },
  {
   "cell_type": "code",
   "execution_count": 165,
   "id": "8d531fb9-e918-4b17-a919-36d5374e9007",
   "metadata": {},
   "outputs": [
    {
     "name": "stdout",
     "output_type": "stream",
     "text": [
      "Sum along axis 0 (column-wise): [12 15 18]\n",
      "Sum along axis 1 (row-wise): [ 6 15 24]\n"
     ]
    }
   ],
   "source": [
    "arr = np.array([\n",
    "    [1, 2, 3],\n",
    "    [4, 5, 6],\n",
    "    [7, 8, 9]\n",
    "])\n",
    "\n",
    "sum_axis_0 = np.sum(arr, axis=0)\n",
    "sum_axis_1 = np.sum(arr, axis=1)\n",
    "\n",
    "\n",
    "print(f\"Sum along axis 0 (column-wise): {sum_axis_0}\")\n",
    "print(f\"Sum along axis 1 (row-wise): {sum_axis_1}\")"
   ]
  },
  {
   "cell_type": "code",
   "execution_count": 166,
   "id": "280ea32e-c0ae-49a9-b4c0-8a3054e8f6ca",
   "metadata": {},
   "outputs": [
    {
     "data": {
      "text/plain": [
       "array([7, 8, 9])"
      ]
     },
     "execution_count": 166,
     "metadata": {},
     "output_type": "execute_result"
    }
   ],
   "source": [
    "np.max(arr, axis=0)"
   ]
  },
  {
   "cell_type": "code",
   "execution_count": 169,
   "id": "2169476d-b028-4067-9416-bf06059eb31d",
   "metadata": {},
   "outputs": [
    {
     "data": {
      "text/plain": [
       "array([[ 1,  3,  6],\n",
       "       [ 4,  9, 15],\n",
       "       [ 7, 15, 24]])"
      ]
     },
     "execution_count": 169,
     "metadata": {},
     "output_type": "execute_result"
    }
   ],
   "source": [
    "np.cumsum(arr, axis=1)"
   ]
  },
  {
   "cell_type": "code",
   "execution_count": 170,
   "id": "a2d9f885-f980-48d7-a949-ec0cb11f4c77",
   "metadata": {},
   "outputs": [
    {
     "data": {
      "text/plain": [
       "(3, 2, 2)"
      ]
     },
     "execution_count": 170,
     "metadata": {},
     "output_type": "execute_result"
    }
   ],
   "source": [
    "arr_3d = np.array([\n",
    "    [[1, 2], [3, 4]], # Matrix 0\n",
    "    [[5, 6], [7, 8]], # Matrix 1\n",
    "    [[9, 10], [11, 12]], # Matrix 2\n",
    "])\n",
    "\n",
    "arr_3d.shape"
   ]
  },
  {
   "cell_type": "code",
   "execution_count": 171,
   "id": "a644df97-4f32-42c4-95be-5ab74d4c91dc",
   "metadata": {},
   "outputs": [
    {
     "data": {
      "text/plain": [
       "array([[15, 18],\n",
       "       [21, 24]])"
      ]
     },
     "execution_count": 171,
     "metadata": {},
     "output_type": "execute_result"
    }
   ],
   "source": [
    "np.sum(arr_3d, axis=0)"
   ]
  },
  {
   "cell_type": "code",
   "execution_count": 172,
   "id": "f9ad7885-7686-407c-b40f-6c01ddd107f4",
   "metadata": {},
   "outputs": [
    {
     "data": {
      "text/plain": [
       "array([[ 4,  6],\n",
       "       [12, 14],\n",
       "       [20, 22]])"
      ]
     },
     "execution_count": 172,
     "metadata": {},
     "output_type": "execute_result"
    }
   ],
   "source": [
    "np.sum(arr_3d, axis=1)"
   ]
  },
  {
   "cell_type": "code",
   "execution_count": 173,
   "id": "ab9a3366-2409-4a72-af0c-c16902765f55",
   "metadata": {},
   "outputs": [
    {
     "data": {
      "text/plain": [
       "array([[ 3,  7],\n",
       "       [11, 15],\n",
       "       [19, 23]])"
      ]
     },
     "execution_count": 173,
     "metadata": {},
     "output_type": "execute_result"
    }
   ],
   "source": [
    "np.sum(arr_3d, axis=2)"
   ]
  },
  {
   "cell_type": "markdown",
   "id": "05bd4ee5-40be-4eb8-932e-c0a2d8f3498d",
   "metadata": {
    "jp-MarkdownHeadingCollapsed": true
   },
   "source": [
    "## reshape"
   ]
  },
  {
   "cell_type": "code",
   "execution_count": 179,
   "id": "c6f65078-586c-4f81-8d39-f66fee177e61",
   "metadata": {},
   "outputs": [
    {
     "data": {
      "text/plain": [
       "array([[1, 2, 3, 4],\n",
       "       [5, 6, 7, 8]])"
      ]
     },
     "execution_count": 179,
     "metadata": {},
     "output_type": "execute_result"
    }
   ],
   "source": [
    "arr = np.array([1, 2, 3, 4, 5, 6, 7, 8])\n",
    "\n",
    "arr.reshape(2, 4)"
   ]
  },
  {
   "cell_type": "code",
   "execution_count": 182,
   "id": "8e1cce19-4578-4eee-a405-203906ddb2d2",
   "metadata": {},
   "outputs": [
    {
     "data": {
      "text/plain": [
       "array([[[1, 2, 3, 4]],\n",
       "\n",
       "       [[5, 6, 7, 8]]])"
      ]
     },
     "execution_count": 182,
     "metadata": {},
     "output_type": "execute_result"
    }
   ],
   "source": [
    "arr.reshape(2, -1,  4)"
   ]
  },
  {
   "cell_type": "code",
   "execution_count": 183,
   "id": "3224b07a-13b5-4764-9670-8ec5e15eca65",
   "metadata": {},
   "outputs": [
    {
     "data": {
      "text/plain": [
       "array([1, 2, 3, 4, 5, 6, 7, 8])"
      ]
     },
     "execution_count": 183,
     "metadata": {},
     "output_type": "execute_result"
    }
   ],
   "source": [
    "arr.reshape(-1)"
   ]
  },
  {
   "cell_type": "code",
   "execution_count": 184,
   "id": "d08ccbbb-6b6e-40ee-8fc3-11f45272d96c",
   "metadata": {},
   "outputs": [
    {
     "data": {
      "text/plain": [
       "(10, 64, 64, 3)"
      ]
     },
     "execution_count": 184,
     "metadata": {},
     "output_type": "execute_result"
    }
   ],
   "source": [
    "# image   (height, width, channel)\n",
    "# batch images (batch, height, width, channel)\n",
    "\n",
    "batch = np.random.rand(10, 64, 64, 3)\n",
    "batch.shape"
   ]
  },
  {
   "cell_type": "code",
   "execution_count": 186,
   "id": "dddcedf2-5cd5-4d1a-9570-df3957fc5ade",
   "metadata": {},
   "outputs": [
    {
     "data": {
      "text/plain": [
       "(10, 12288)"
      ]
     },
     "execution_count": 186,
     "metadata": {},
     "output_type": "execute_result"
    }
   ],
   "source": [
    "batch.reshape(10, -1).shape"
   ]
  },
  {
   "cell_type": "markdown",
   "id": "71871ae5-f2d1-4a85-9406-1608a4c90e68",
   "metadata": {
    "jp-MarkdownHeadingCollapsed": true
   },
   "source": [
    "## concatenate, vstack, hstack"
   ]
  },
  {
   "cell_type": "code",
   "execution_count": 187,
   "id": "f4526496-86db-490e-a653-86cb9e54b13b",
   "metadata": {},
   "outputs": [
    {
     "data": {
      "text/plain": [
       "array([[1, 2],\n",
       "       [3, 4],\n",
       "       [5, 6],\n",
       "       [7, 8]])"
      ]
     },
     "execution_count": 187,
     "metadata": {},
     "output_type": "execute_result"
    }
   ],
   "source": [
    "arr1 = np.array([[1, 2], [3, 4]])\n",
    "arr2 = np.array([[5, 6], [7, 8]])\n",
    "\n",
    "np.concatenate((arr1, arr2), axis=0)"
   ]
  },
  {
   "cell_type": "code",
   "execution_count": 189,
   "id": "312a075e-133b-43d3-9bcc-d02a3c246b8c",
   "metadata": {},
   "outputs": [
    {
     "data": {
      "text/plain": [
       "array([[1, 2],\n",
       "       [3, 4],\n",
       "       [5, 6],\n",
       "       [7, 8]])"
      ]
     },
     "execution_count": 189,
     "metadata": {},
     "output_type": "execute_result"
    }
   ],
   "source": [
    "np.vstack((arr1, arr2))"
   ]
  },
  {
   "cell_type": "code",
   "execution_count": 190,
   "id": "8c1c4c99-2fa7-4208-9b83-d89578589f78",
   "metadata": {},
   "outputs": [
    {
     "data": {
      "text/plain": [
       "array([[1, 2, 5, 6],\n",
       "       [3, 4, 7, 8]])"
      ]
     },
     "execution_count": 190,
     "metadata": {},
     "output_type": "execute_result"
    }
   ],
   "source": [
    "np.concatenate((arr1, arr2), axis=1)"
   ]
  },
  {
   "cell_type": "code",
   "execution_count": 191,
   "id": "50937bce-cb9f-48db-97c6-2dcde6d7f83f",
   "metadata": {},
   "outputs": [
    {
     "data": {
      "text/plain": [
       "array([[1, 2, 5, 6],\n",
       "       [3, 4, 7, 8]])"
      ]
     },
     "execution_count": 191,
     "metadata": {},
     "output_type": "execute_result"
    }
   ],
   "source": [
    "np.hstack((arr1, arr2))"
   ]
  },
  {
   "cell_type": "markdown",
   "id": "6cbfe903-7f82-4139-9f14-2e0334f9f58a",
   "metadata": {
    "jp-MarkdownHeadingCollapsed": true
   },
   "source": [
    "## Vectorization"
   ]
  },
  {
   "cell_type": "code",
   "execution_count": 193,
   "id": "cfc991ba-f14e-48e4-b6b1-de8b30633cf8",
   "metadata": {},
   "outputs": [
    {
     "data": {
      "text/plain": [
       "array([ 1,  4,  9, 16, 25])"
      ]
     },
     "execution_count": 193,
     "metadata": {},
     "output_type": "execute_result"
    }
   ],
   "source": [
    "arr = np.array([1, 2, 3, 4, 5])\n",
    "\n",
    "squared_loop = [x**2 for x in arr]\n",
    "squared_vectorized = arr ** 2\n",
    "squared_vectorized"
   ]
  },
  {
   "cell_type": "code",
   "execution_count": 195,
   "id": "d20ae23f-22c1-404f-9be0-e32ddeb808f4",
   "metadata": {},
   "outputs": [
    {
     "data": {
      "text/plain": [
       "array([  1,   4,  27,  16, 125])"
      ]
     },
     "execution_count": 195,
     "metadata": {},
     "output_type": "execute_result"
    }
   ],
   "source": [
    "def custom_function(x):\n",
    "    return x**2 if x%2==0 else x**3\n",
    "\n",
    "arr = np.array([1, 2, 3, 4, 5])\n",
    "vectorized_func = np.vectorize(custom_function)\n",
    "\n",
    "vectorized_func(arr)"
   ]
  },
  {
   "cell_type": "markdown",
   "id": "ee2ab83d-7410-43e7-9388-6dda33ef75de",
   "metadata": {},
   "source": [
    "numpy.where function is a vectorized version of the ternary expression x if condition else y"
   ]
  },
  {
   "cell_type": "code",
   "execution_count": 198,
   "id": "ca777fb6-2e05-4db3-8607-5057f8637b9d",
   "metadata": {},
   "outputs": [
    {
     "data": {
      "text/plain": [
       "array([[3, 4, 5, 6, 7],\n",
       "       [5, 6, 7, 8, 9]])"
      ]
     },
     "execution_count": 198,
     "metadata": {},
     "output_type": "execute_result"
    }
   ],
   "source": [
    "a = np.arange(10).reshape(2, 5)\n",
    "np.where( a > 4, a, a+3)"
   ]
  },
  {
   "cell_type": "markdown",
   "id": "381d032c-25db-43a5-b508-c580f9fcdb35",
   "metadata": {
    "jp-MarkdownHeadingCollapsed": true
   },
   "source": [
    "## Algebra"
   ]
  },
  {
   "cell_type": "code",
   "execution_count": 199,
   "id": "adaca16f-26e2-46c8-b8a5-c0e8e7c89abc",
   "metadata": {},
   "outputs": [
    {
     "data": {
      "text/plain": [
       "array([[ 28,  64],\n",
       "       [ 67, 181]])"
      ]
     },
     "execution_count": 199,
     "metadata": {},
     "output_type": "execute_result"
    }
   ],
   "source": [
    "x = np.array([[1, 2, 3], [4, 5, 6]])\n",
    "y = np.array([[6, 23], [-1, 7], [8, 9]])\n",
    "\n",
    "x @ y"
   ]
  },
  {
   "cell_type": "code",
   "execution_count": 201,
   "id": "69a01ad3-a76b-4041-89c3-1ff97b37e9a7",
   "metadata": {},
   "outputs": [
    {
     "data": {
      "text/plain": [
       "array([[ 1.00000000e+00, -2.40085729e-15],\n",
       "       [-6.93889390e-18,  1.00000000e+00]])"
      ]
     },
     "execution_count": 201,
     "metadata": {},
     "output_type": "execute_result"
    }
   ],
   "source": [
    "np.linalg.inv(x@y) @ (x@y)"
   ]
  }
 ],
 "metadata": {
  "kernelspec": {
   "display_name": "Python 3 (ipykernel)",
   "language": "python",
   "name": "python3"
  },
  "language_info": {
   "codemirror_mode": {
    "name": "ipython",
    "version": 3
   },
   "file_extension": ".py",
   "mimetype": "text/x-python",
   "name": "python",
   "nbconvert_exporter": "python",
   "pygments_lexer": "ipython3",
   "version": "3.10.5"
  }
 },
 "nbformat": 4,
 "nbformat_minor": 5
}
